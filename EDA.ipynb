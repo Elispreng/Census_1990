{
 "cells": [
  {
   "cell_type": "markdown",
   "metadata": {},
   "source": [
    "#### In this notebook, the data will be cleaned and explored through univariate and multivariate visuals. "
   ]
  },
  {
   "cell_type": "markdown",
   "metadata": {},
   "source": [
    "# Create Project"
   ]
  },
  {
   "cell_type": "code",
   "execution_count": 1,
   "metadata": {
    "id": "qKfiDvPc4bKo"
   },
   "outputs": [],
   "source": [
    "#import libraries and metrics \n",
    "\n",
    "# basics and visuals\n",
    "import matplotlib.pyplot as plt\n",
    "import seaborn as sns\n",
    "import pandas as pd\n",
    "import numpy as np\n",
    "\n",
    "## Preprocessing\n",
    "from sklearn.model_selection import train_test_split\n",
    "from sklearn.compose import make_column_selector\n",
    "from sklearn.preprocessing import StandardScaler, OneHotEncoder\n",
    "from sklearn.impute import SimpleImputer\n",
    "from sklearn.pipeline import make_pipeline\n",
    "from sklearn.compose import make_column_transformer\n",
    "\n",
    "#Classification Libraries\n",
    "from sklearn.neighbors import KNeighborsClassifier\n",
    "from sklearn.linear_model import LogisticRegression\n",
    "from sklearn.tree import DecisionTreeClassifier\n",
    "from sklearn.ensemble import BaggingClassifier\n",
    "from sklearn.ensemble import RandomForestClassifier\n",
    "\n",
    "# Classification Metrics\n",
    "from sklearn.metrics import accuracy_score, recall_score, precision_score, \\\n",
    "f1_score, classification_report, confusion_matrix, ConfusionMatrixDisplay\n",
    "from sklearn.metrics import roc_auc_score, RocCurveDisplay\n",
    "## Tree Model Visualization\n",
    "from sklearn.tree import plot_tree\n",
    "\n",
    "## Import Models\n",
    "from sklearn.dummy import DummyRegressor\n",
    "from sklearn.linear_model import LinearRegression\n",
    "from sklearn.tree import DecisionTreeRegressor\n",
    "from sklearn.ensemble import RandomForestRegressor\n",
    "from sklearn.ensemble import BaggingRegressor\n",
    "\n",
    "##Set up configuation display\n",
    "from sklearn import set_config\n",
    "set_config(display='diagram') # 'text' or 'diagram'}\n"
   ]
  },
  {
   "cell_type": "code",
   "execution_count": 2,
   "metadata": {
    "id": "icGvK73mAcEx"
   },
   "outputs": [],
   "source": [
    "#load data and create dataframe\n",
    "filename = 'Data/adult[1].csv'\n",
    "adult_df = pd.read_csv(filename)"
   ]
  },
  {
   "cell_type": "markdown",
   "metadata": {
    "id": "mWRRvnTR3GbI"
   },
   "source": [
    "# Data Preparation and Initial Cleaning"
   ]
  },
  {
   "cell_type": "markdown",
   "metadata": {
    "id": "nBcMuQox3Bg4"
   },
   "source": [
    "## Inspect Data"
   ]
  },
  {
   "cell_type": "code",
   "execution_count": 3,
   "metadata": {
    "colab": {
     "base_uri": "https://localhost:8080/",
     "height": 444
    },
    "id": "_ZPolt9p3Xxy",
    "outputId": "fa3bb784-2b81-4221-9334-70ab0740b1df"
   },
   "outputs": [
    {
     "data": {
      "text/html": [
       "<div>\n",
       "<style scoped>\n",
       "    .dataframe tbody tr th:only-of-type {\n",
       "        vertical-align: middle;\n",
       "    }\n",
       "\n",
       "    .dataframe tbody tr th {\n",
       "        vertical-align: top;\n",
       "    }\n",
       "\n",
       "    .dataframe thead th {\n",
       "        text-align: right;\n",
       "    }\n",
       "</style>\n",
       "<table border=\"1\" class=\"dataframe\">\n",
       "  <thead>\n",
       "    <tr style=\"text-align: right;\">\n",
       "      <th></th>\n",
       "      <th>age</th>\n",
       "      <th>workclass</th>\n",
       "      <th>fnlwgt</th>\n",
       "      <th>education</th>\n",
       "      <th>educational-num</th>\n",
       "      <th>marital-status</th>\n",
       "      <th>occupation</th>\n",
       "      <th>relationship</th>\n",
       "      <th>race</th>\n",
       "      <th>gender</th>\n",
       "      <th>capital-gain</th>\n",
       "      <th>capital-loss</th>\n",
       "      <th>hours-per-week</th>\n",
       "      <th>native-country</th>\n",
       "      <th>income</th>\n",
       "    </tr>\n",
       "  </thead>\n",
       "  <tbody>\n",
       "    <tr>\n",
       "      <th>0</th>\n",
       "      <td>25</td>\n",
       "      <td>Private</td>\n",
       "      <td>226802</td>\n",
       "      <td>11th</td>\n",
       "      <td>7</td>\n",
       "      <td>Never-married</td>\n",
       "      <td>Machine-op-inspct</td>\n",
       "      <td>Own-child</td>\n",
       "      <td>Black</td>\n",
       "      <td>Male</td>\n",
       "      <td>0</td>\n",
       "      <td>0</td>\n",
       "      <td>40</td>\n",
       "      <td>United-States</td>\n",
       "      <td>&lt;=50K</td>\n",
       "    </tr>\n",
       "    <tr>\n",
       "      <th>1</th>\n",
       "      <td>38</td>\n",
       "      <td>Private</td>\n",
       "      <td>89814</td>\n",
       "      <td>HS-grad</td>\n",
       "      <td>9</td>\n",
       "      <td>Married-civ-spouse</td>\n",
       "      <td>Farming-fishing</td>\n",
       "      <td>Husband</td>\n",
       "      <td>White</td>\n",
       "      <td>Male</td>\n",
       "      <td>0</td>\n",
       "      <td>0</td>\n",
       "      <td>50</td>\n",
       "      <td>United-States</td>\n",
       "      <td>&lt;=50K</td>\n",
       "    </tr>\n",
       "    <tr>\n",
       "      <th>2</th>\n",
       "      <td>28</td>\n",
       "      <td>Local-gov</td>\n",
       "      <td>336951</td>\n",
       "      <td>Assoc-acdm</td>\n",
       "      <td>12</td>\n",
       "      <td>Married-civ-spouse</td>\n",
       "      <td>Protective-serv</td>\n",
       "      <td>Husband</td>\n",
       "      <td>White</td>\n",
       "      <td>Male</td>\n",
       "      <td>0</td>\n",
       "      <td>0</td>\n",
       "      <td>40</td>\n",
       "      <td>United-States</td>\n",
       "      <td>&gt;50K</td>\n",
       "    </tr>\n",
       "    <tr>\n",
       "      <th>3</th>\n",
       "      <td>44</td>\n",
       "      <td>Private</td>\n",
       "      <td>160323</td>\n",
       "      <td>Some-college</td>\n",
       "      <td>10</td>\n",
       "      <td>Married-civ-spouse</td>\n",
       "      <td>Machine-op-inspct</td>\n",
       "      <td>Husband</td>\n",
       "      <td>Black</td>\n",
       "      <td>Male</td>\n",
       "      <td>7688</td>\n",
       "      <td>0</td>\n",
       "      <td>40</td>\n",
       "      <td>United-States</td>\n",
       "      <td>&gt;50K</td>\n",
       "    </tr>\n",
       "    <tr>\n",
       "      <th>4</th>\n",
       "      <td>18</td>\n",
       "      <td>?</td>\n",
       "      <td>103497</td>\n",
       "      <td>Some-college</td>\n",
       "      <td>10</td>\n",
       "      <td>Never-married</td>\n",
       "      <td>?</td>\n",
       "      <td>Own-child</td>\n",
       "      <td>White</td>\n",
       "      <td>Female</td>\n",
       "      <td>0</td>\n",
       "      <td>0</td>\n",
       "      <td>30</td>\n",
       "      <td>United-States</td>\n",
       "      <td>&lt;=50K</td>\n",
       "    </tr>\n",
       "  </tbody>\n",
       "</table>\n",
       "</div>"
      ],
      "text/plain": [
       "   age  workclass  fnlwgt     education  educational-num      marital-status  \\\n",
       "0   25    Private  226802          11th                7       Never-married   \n",
       "1   38    Private   89814       HS-grad                9  Married-civ-spouse   \n",
       "2   28  Local-gov  336951    Assoc-acdm               12  Married-civ-spouse   \n",
       "3   44    Private  160323  Some-college               10  Married-civ-spouse   \n",
       "4   18          ?  103497  Some-college               10       Never-married   \n",
       "\n",
       "          occupation relationship   race  gender  capital-gain  capital-loss  \\\n",
       "0  Machine-op-inspct    Own-child  Black    Male             0             0   \n",
       "1    Farming-fishing      Husband  White    Male             0             0   \n",
       "2    Protective-serv      Husband  White    Male             0             0   \n",
       "3  Machine-op-inspct      Husband  Black    Male          7688             0   \n",
       "4                  ?    Own-child  White  Female             0             0   \n",
       "\n",
       "   hours-per-week native-country income  \n",
       "0              40  United-States  <=50K  \n",
       "1              50  United-States  <=50K  \n",
       "2              40  United-States   >50K  \n",
       "3              40  United-States   >50K  \n",
       "4              30  United-States  <=50K  "
      ]
     },
     "execution_count": 3,
     "metadata": {},
     "output_type": "execute_result"
    }
   ],
   "source": [
    "#  Inspect the first (5) rows of the dataframe\n",
    "adult_df.head()"
   ]
  },
  {
   "cell_type": "markdown",
   "metadata": {
    "id": "nGS_tBQD3fnE"
   },
   "source": [
    "- The data has loaded correctly. "
   ]
  },
  {
   "cell_type": "code",
   "execution_count": 4,
   "metadata": {
    "colab": {
     "base_uri": "https://localhost:8080/"
    },
    "id": "K2_G8cyF3peT",
    "outputId": "b62618d9-3f0d-4743-f222-cf0ec23e2ee3"
   },
   "outputs": [
    {
     "name": "stdout",
     "output_type": "stream",
     "text": [
      "There are 48842 rows, and 15 columns.\n",
      "The rows represent 48842 participants, and the columns represent 14 features and 1 target variable.\n"
     ]
    }
   ],
   "source": [
    "## Display the number of rows and columns for the dataframe\n",
    "adult_df.shape\n",
    "print(f'There are {adult_df.shape[0]} rows, and {adult_df.shape[1]} columns.')\n",
    "print(f'The rows represent {adult_df.shape[0]} participants, and the columns represent {adult_df. shape[1]-1} features and 1 target variable.')"
   ]
  },
  {
   "cell_type": "code",
   "execution_count": 5,
   "metadata": {
    "colab": {
     "base_uri": "https://localhost:8080/"
    },
    "id": "XJ0tdyashSh6",
    "outputId": "8398a3a1-05db-4403-bda5-878421e8bdf3"
   },
   "outputs": [
    {
     "name": "stdout",
     "output_type": "stream",
     "text": [
      "<class 'pandas.core.frame.DataFrame'>\n",
      "RangeIndex: 48842 entries, 0 to 48841\n",
      "Data columns (total 15 columns):\n",
      " #   Column           Non-Null Count  Dtype \n",
      "---  ------           --------------  ----- \n",
      " 0   age              48842 non-null  int64 \n",
      " 1   workclass        48842 non-null  object\n",
      " 2   fnlwgt           48842 non-null  int64 \n",
      " 3   education        48842 non-null  object\n",
      " 4   educational-num  48842 non-null  int64 \n",
      " 5   marital-status   48842 non-null  object\n",
      " 6   occupation       48842 non-null  object\n",
      " 7   relationship     48842 non-null  object\n",
      " 8   race             48842 non-null  object\n",
      " 9   gender           48842 non-null  object\n",
      " 10  capital-gain     48842 non-null  int64 \n",
      " 11  capital-loss     48842 non-null  int64 \n",
      " 12  hours-per-week   48842 non-null  int64 \n",
      " 13  native-country   48842 non-null  object\n",
      " 14  income           48842 non-null  object\n",
      "dtypes: int64(6), object(9)\n",
      "memory usage: 5.6+ MB\n"
     ]
    }
   ],
   "source": [
    "# check the info\n",
    "adult_df.info()"
   ]
  },
  {
   "cell_type": "markdown",
   "metadata": {
    "id": "JemIDidH_SDs"
   },
   "source": [
    "### Inspect Columns for Datatypes"
   ]
  },
  {
   "cell_type": "code",
   "execution_count": 6,
   "metadata": {
    "colab": {
     "base_uri": "https://localhost:8080/"
    },
    "id": "OpQENQETM_Gq",
    "outputId": "ca5f373b-0069-405c-e8b8-57abd78a1e82"
   },
   "outputs": [
    {
     "data": {
      "text/plain": [
       "age                 int64\n",
       "workclass          object\n",
       "fnlwgt              int64\n",
       "education          object\n",
       "educational-num     int64\n",
       "marital-status     object\n",
       "occupation         object\n",
       "relationship       object\n",
       "race               object\n",
       "gender             object\n",
       "capital-gain        int64\n",
       "capital-loss        int64\n",
       "hours-per-week      int64\n",
       "native-country     object\n",
       "income             object\n",
       "dtype: object"
      ]
     },
     "execution_count": 6,
     "metadata": {},
     "output_type": "execute_result"
    }
   ],
   "source": [
    "## Display column names and datatypes\n",
    "adult_df.dtypes"
   ]
  },
  {
   "cell_type": "markdown",
   "metadata": {
    "id": "ofN2q6QTBrlb"
   },
   "source": [
    "- All columns datatyoes appear correct. "
   ]
  },
  {
   "cell_type": "markdown",
   "metadata": {
    "id": "RPXZPSiB_ZMi"
   },
   "source": [
    "### Inspect Column Names for Errors"
   ]
  },
  {
   "cell_type": "code",
   "execution_count": 7,
   "metadata": {
    "colab": {
     "base_uri": "https://localhost:8080/"
    },
    "id": "c0rNstvRNA-N",
    "outputId": "4ab562fa-245f-4b5d-d0b4-85797b9cc1f5"
   },
   "outputs": [
    {
     "data": {
      "text/plain": [
       "Index(['age', 'workclass', 'fnlwgt', 'education', 'educational-num',\n",
       "       'marital-status', 'occupation', 'relationship', 'race', 'gender',\n",
       "       'capital-gain', 'capital-loss', 'hours-per-week', 'native-country',\n",
       "       'income'],\n",
       "      dtype='object')"
      ]
     },
     "execution_count": 7,
     "metadata": {},
     "output_type": "execute_result"
    }
   ],
   "source": [
    "## Display column names\n",
    "adult_df.columns"
   ]
  },
  {
   "cell_type": "markdown",
   "metadata": {
    "id": "ru_yfW5e-xZ_"
   },
   "source": [
    "## Clean the data"
   ]
  },
  {
   "cell_type": "markdown",
   "metadata": {
    "id": "FNsO6YVl-9S3"
   },
   "source": [
    "### Remove Unnecessary Columns\n"
   ]
  },
  {
   "cell_type": "markdown",
   "metadata": {
    "id": "5qPDjP4W4tw0"
   },
   "source": [
    "- There are not any unnecessary columns."
   ]
  },
  {
   "cell_type": "markdown",
   "metadata": {
    "id": "xsEHKH1G_HWU"
   },
   "source": [
    "### Remove Unnecessary Rows"
   ]
  },
  {
   "cell_type": "markdown",
   "metadata": {
    "id": "UDE7AdUb_NMl"
   },
   "source": [
    "### Duplicates"
   ]
  },
  {
   "cell_type": "code",
   "execution_count": 8,
   "metadata": {
    "colab": {
     "base_uri": "https://localhost:8080/"
    },
    "id": "fPvDl_o15MwD",
    "outputId": "c5b45c62-e4dc-497c-8e90-9152b37c55bc"
   },
   "outputs": [
    {
     "name": "stdout",
     "output_type": "stream",
     "text": [
      "There are 52 duplicate rows.\n"
     ]
    }
   ],
   "source": [
    "# Display the number of duplicate rows\n",
    "print(f'There are {adult_df.duplicated().sum()} duplicate rows.')"
   ]
  },
  {
   "cell_type": "code",
   "execution_count": 9,
   "metadata": {
    "id": "QZ4s_Sfa5Yts"
   },
   "outputs": [],
   "source": [
    "# Drop duplicate rows\n",
    "adult_df = adult_df.drop_duplicates()"
   ]
  },
  {
   "cell_type": "code",
   "execution_count": 10,
   "metadata": {
    "colab": {
     "base_uri": "https://localhost:8080/"
    },
    "id": "gKDi0pJ5MgUm",
    "outputId": "f8f7e2fd-e263-4d67-9f75-e13724d0e40e"
   },
   "outputs": [
    {
     "data": {
      "text/plain": [
       "0"
      ]
     },
     "execution_count": 10,
     "metadata": {},
     "output_type": "execute_result"
    }
   ],
   "source": [
    "# Check for duplicates\n",
    "adult_df.duplicated().sum()"
   ]
  },
  {
   "cell_type": "markdown",
   "metadata": {
    "id": "knzjVx8g5hIc"
   },
   "source": [
    "- There are zero duplicate rows. "
   ]
  },
  {
   "cell_type": "markdown",
   "metadata": {
    "id": "y6PS0rog_orE"
   },
   "source": [
    "### Missing Values"
   ]
  },
  {
   "cell_type": "code",
   "execution_count": 11,
   "metadata": {
    "colab": {
     "base_uri": "https://localhost:8080/"
    },
    "id": "dihpi_jgMRGz",
    "outputId": "22e863e2-ea40-45e5-d435-25172ea90bcf"
   },
   "outputs": [
    {
     "data": {
      "text/plain": [
       "age                0\n",
       "workclass          0\n",
       "fnlwgt             0\n",
       "education          0\n",
       "educational-num    0\n",
       "marital-status     0\n",
       "occupation         0\n",
       "relationship       0\n",
       "race               0\n",
       "gender             0\n",
       "capital-gain       0\n",
       "capital-loss       0\n",
       "hours-per-week     0\n",
       "native-country     0\n",
       "income             0\n",
       "dtype: int64"
      ]
     },
     "execution_count": 11,
     "metadata": {},
     "output_type": "execute_result"
    }
   ],
   "source": [
    "# Checking for missing values\n",
    "adult_df.isna().sum()"
   ]
  },
  {
   "cell_type": "markdown",
   "metadata": {
    "id": "MVNw96Nb6yAU"
   },
   "source": [
    "- There are 0 missing values"
   ]
  },
  {
   "cell_type": "markdown",
   "metadata": {
    "id": "u2rO0Ep96M6U"
   },
   "source": [
    "## Check for Inconsistencies\n",
    "#### There are lot of \"?\""
   ]
  },
  {
   "cell_type": "markdown",
   "metadata": {
    "id": "_Tmx2pPREl2u"
   },
   "source": [
    "## Fix the column datatypes"
   ]
  },
  {
   "cell_type": "code",
   "execution_count": 12,
   "metadata": {
    "colab": {
     "base_uri": "https://localhost:8080/",
     "height": 300
    },
    "id": "JoejR7hN6L8E",
    "outputId": "d8df3be4-a192-4c3f-eb9f-c95d12eba2c3"
   },
   "outputs": [
    {
     "data": {
      "text/html": [
       "<div>\n",
       "<style scoped>\n",
       "    .dataframe tbody tr th:only-of-type {\n",
       "        vertical-align: middle;\n",
       "    }\n",
       "\n",
       "    .dataframe tbody tr th {\n",
       "        vertical-align: top;\n",
       "    }\n",
       "\n",
       "    .dataframe thead th {\n",
       "        text-align: right;\n",
       "    }\n",
       "</style>\n",
       "<table border=\"1\" class=\"dataframe\">\n",
       "  <thead>\n",
       "    <tr style=\"text-align: right;\">\n",
       "      <th></th>\n",
       "      <th>age</th>\n",
       "      <th>fnlwgt</th>\n",
       "      <th>educational-num</th>\n",
       "      <th>capital-gain</th>\n",
       "      <th>capital-loss</th>\n",
       "      <th>hours-per-week</th>\n",
       "    </tr>\n",
       "  </thead>\n",
       "  <tbody>\n",
       "    <tr>\n",
       "      <th>count</th>\n",
       "      <td>48790.000000</td>\n",
       "      <td>4.879000e+04</td>\n",
       "      <td>48790.000000</td>\n",
       "      <td>48790.000000</td>\n",
       "      <td>48790.000000</td>\n",
       "      <td>48790.000000</td>\n",
       "    </tr>\n",
       "    <tr>\n",
       "      <th>mean</th>\n",
       "      <td>38.652798</td>\n",
       "      <td>1.896690e+05</td>\n",
       "      <td>10.078807</td>\n",
       "      <td>1080.217688</td>\n",
       "      <td>87.595573</td>\n",
       "      <td>40.425886</td>\n",
       "    </tr>\n",
       "    <tr>\n",
       "      <th>std</th>\n",
       "      <td>13.708493</td>\n",
       "      <td>1.056172e+05</td>\n",
       "      <td>2.570046</td>\n",
       "      <td>7455.905921</td>\n",
       "      <td>403.209129</td>\n",
       "      <td>12.392729</td>\n",
       "    </tr>\n",
       "    <tr>\n",
       "      <th>min</th>\n",
       "      <td>17.000000</td>\n",
       "      <td>1.228500e+04</td>\n",
       "      <td>1.000000</td>\n",
       "      <td>0.000000</td>\n",
       "      <td>0.000000</td>\n",
       "      <td>1.000000</td>\n",
       "    </tr>\n",
       "    <tr>\n",
       "      <th>25%</th>\n",
       "      <td>28.000000</td>\n",
       "      <td>1.175550e+05</td>\n",
       "      <td>9.000000</td>\n",
       "      <td>0.000000</td>\n",
       "      <td>0.000000</td>\n",
       "      <td>40.000000</td>\n",
       "    </tr>\n",
       "    <tr>\n",
       "      <th>50%</th>\n",
       "      <td>37.000000</td>\n",
       "      <td>1.781385e+05</td>\n",
       "      <td>10.000000</td>\n",
       "      <td>0.000000</td>\n",
       "      <td>0.000000</td>\n",
       "      <td>40.000000</td>\n",
       "    </tr>\n",
       "    <tr>\n",
       "      <th>75%</th>\n",
       "      <td>48.000000</td>\n",
       "      <td>2.376062e+05</td>\n",
       "      <td>12.000000</td>\n",
       "      <td>0.000000</td>\n",
       "      <td>0.000000</td>\n",
       "      <td>45.000000</td>\n",
       "    </tr>\n",
       "    <tr>\n",
       "      <th>max</th>\n",
       "      <td>90.000000</td>\n",
       "      <td>1.490400e+06</td>\n",
       "      <td>16.000000</td>\n",
       "      <td>99999.000000</td>\n",
       "      <td>4356.000000</td>\n",
       "      <td>99.000000</td>\n",
       "    </tr>\n",
       "  </tbody>\n",
       "</table>\n",
       "</div>"
      ],
      "text/plain": [
       "                age        fnlwgt  educational-num  capital-gain  \\\n",
       "count  48790.000000  4.879000e+04     48790.000000  48790.000000   \n",
       "mean      38.652798  1.896690e+05        10.078807   1080.217688   \n",
       "std       13.708493  1.056172e+05         2.570046   7455.905921   \n",
       "min       17.000000  1.228500e+04         1.000000      0.000000   \n",
       "25%       28.000000  1.175550e+05         9.000000      0.000000   \n",
       "50%       37.000000  1.781385e+05        10.000000      0.000000   \n",
       "75%       48.000000  2.376062e+05        12.000000      0.000000   \n",
       "max       90.000000  1.490400e+06        16.000000  99999.000000   \n",
       "\n",
       "       capital-loss  hours-per-week  \n",
       "count  48790.000000    48790.000000  \n",
       "mean      87.595573       40.425886  \n",
       "std      403.209129       12.392729  \n",
       "min        0.000000        1.000000  \n",
       "25%        0.000000       40.000000  \n",
       "50%        0.000000       40.000000  \n",
       "75%        0.000000       45.000000  \n",
       "max     4356.000000       99.000000  "
      ]
     },
     "execution_count": 12,
     "metadata": {},
     "output_type": "execute_result"
    }
   ],
   "source": [
    "# Check the numeric columns for inconsistencies\n",
    "adult_df.describe(include=\"number\")\n"
   ]
  },
  {
   "cell_type": "code",
   "execution_count": 13,
   "metadata": {
    "colab": {
     "base_uri": "https://localhost:8080/",
     "height": 175
    },
    "id": "9ZGL-xZVCDS1",
    "outputId": "f521cf27-1c7f-431a-91ec-d0e6f1bd5663"
   },
   "outputs": [
    {
     "data": {
      "text/html": [
       "<div>\n",
       "<style scoped>\n",
       "    .dataframe tbody tr th:only-of-type {\n",
       "        vertical-align: middle;\n",
       "    }\n",
       "\n",
       "    .dataframe tbody tr th {\n",
       "        vertical-align: top;\n",
       "    }\n",
       "\n",
       "    .dataframe thead th {\n",
       "        text-align: right;\n",
       "    }\n",
       "</style>\n",
       "<table border=\"1\" class=\"dataframe\">\n",
       "  <thead>\n",
       "    <tr style=\"text-align: right;\">\n",
       "      <th></th>\n",
       "      <th>workclass</th>\n",
       "      <th>education</th>\n",
       "      <th>marital-status</th>\n",
       "      <th>occupation</th>\n",
       "      <th>relationship</th>\n",
       "      <th>race</th>\n",
       "      <th>gender</th>\n",
       "      <th>native-country</th>\n",
       "      <th>income</th>\n",
       "    </tr>\n",
       "  </thead>\n",
       "  <tbody>\n",
       "    <tr>\n",
       "      <th>count</th>\n",
       "      <td>48790</td>\n",
       "      <td>48790</td>\n",
       "      <td>48790</td>\n",
       "      <td>48790</td>\n",
       "      <td>48790</td>\n",
       "      <td>48790</td>\n",
       "      <td>48790</td>\n",
       "      <td>48790</td>\n",
       "      <td>48790</td>\n",
       "    </tr>\n",
       "    <tr>\n",
       "      <th>unique</th>\n",
       "      <td>9</td>\n",
       "      <td>16</td>\n",
       "      <td>7</td>\n",
       "      <td>15</td>\n",
       "      <td>6</td>\n",
       "      <td>5</td>\n",
       "      <td>2</td>\n",
       "      <td>42</td>\n",
       "      <td>2</td>\n",
       "    </tr>\n",
       "    <tr>\n",
       "      <th>top</th>\n",
       "      <td>Private</td>\n",
       "      <td>HS-grad</td>\n",
       "      <td>Married-civ-spouse</td>\n",
       "      <td>Prof-specialty</td>\n",
       "      <td>Husband</td>\n",
       "      <td>White</td>\n",
       "      <td>Male</td>\n",
       "      <td>United-States</td>\n",
       "      <td>&lt;=50K</td>\n",
       "    </tr>\n",
       "    <tr>\n",
       "      <th>freq</th>\n",
       "      <td>33860</td>\n",
       "      <td>15770</td>\n",
       "      <td>22366</td>\n",
       "      <td>6165</td>\n",
       "      <td>19703</td>\n",
       "      <td>41714</td>\n",
       "      <td>32614</td>\n",
       "      <td>43792</td>\n",
       "      <td>37109</td>\n",
       "    </tr>\n",
       "  </tbody>\n",
       "</table>\n",
       "</div>"
      ],
      "text/plain": [
       "       workclass education      marital-status      occupation relationship  \\\n",
       "count      48790     48790               48790           48790        48790   \n",
       "unique         9        16                   7              15            6   \n",
       "top      Private   HS-grad  Married-civ-spouse  Prof-specialty      Husband   \n",
       "freq       33860     15770               22366            6165        19703   \n",
       "\n",
       "         race gender native-country income  \n",
       "count   48790  48790          48790  48790  \n",
       "unique      5      2             42      2  \n",
       "top     White   Male  United-States  <=50K  \n",
       "freq    41714  32614          43792  37109  "
      ]
     },
     "execution_count": 13,
     "metadata": {},
     "output_type": "execute_result"
    }
   ],
   "source": [
    "# Check the object columns for inconsistencies\n",
    "adult_df.describe(include=\"object\")\n"
   ]
  },
  {
   "cell_type": "markdown",
   "metadata": {
    "id": "MmItzmLmvUSL"
   },
   "source": [
    "## Column 8: Race (no visible problems)"
   ]
  },
  {
   "cell_type": "code",
   "execution_count": 14,
   "metadata": {
    "colab": {
     "base_uri": "https://localhost:8080/"
    },
    "id": "iyjCk_uL9V2g",
    "outputId": "97d4e023-4336-4a8d-aa6d-34eab266bebf"
   },
   "outputs": [
    {
     "data": {
      "text/plain": [
       "White                 41714\n",
       "Black                  4683\n",
       "Asian-Pac-Islander     1517\n",
       "Amer-Indian-Eskimo      470\n",
       "Other                   406\n",
       "Name: race, dtype: int64"
      ]
     },
     "execution_count": 14,
     "metadata": {},
     "output_type": "execute_result"
    }
   ],
   "source": [
    "# Check the 'race' column for inconsistencies\n",
    "adult_df['race'].value_counts()"
   ]
  },
  {
   "cell_type": "markdown",
   "metadata": {
    "id": "1ibwiuG_vhAo"
   },
   "source": [
    "## Column 7: Relationship (no visible problems)"
   ]
  },
  {
   "cell_type": "code",
   "execution_count": 15,
   "metadata": {
    "colab": {
     "base_uri": "https://localhost:8080/"
    },
    "id": "F5GNdkegClg1",
    "outputId": "0fb97153-4f88-4745-bd94-9024bdbe690d"
   },
   "outputs": [
    {
     "data": {
      "text/plain": [
       "Husband           19703\n",
       "Not-in-family     12557\n",
       "Own-child          7569\n",
       "Unmarried          5124\n",
       "Wife               2331\n",
       "Other-relative     1506\n",
       "Name: relationship, dtype: int64"
      ]
     },
     "execution_count": 15,
     "metadata": {},
     "output_type": "execute_result"
    }
   ],
   "source": [
    "# Check the 'relationship' column for inconsistencies\n",
    "adult_df['relationship'].value_counts()"
   ]
  },
  {
   "cell_type": "markdown",
   "metadata": {
    "id": "3Pz3X7_qvq4v"
   },
   "source": [
    "## Column 13: Native Country (856?)"
   ]
  },
  {
   "cell_type": "code",
   "execution_count": 16,
   "metadata": {
    "colab": {
     "base_uri": "https://localhost:8080/"
    },
    "id": "RWC30xxoCy0X",
    "outputId": "b4c1e341-26c7-43fd-d9c6-e6600e17a0e0"
   },
   "outputs": [
    {
     "data": {
      "text/plain": [
       "United-States                 43792\n",
       "Mexico                          943\n",
       "?                               856\n",
       "Philippines                     294\n",
       "Germany                         206\n",
       "Puerto-Rico                     184\n",
       "Canada                          182\n",
       "El-Salvador                     155\n",
       "India                           151\n",
       "Cuba                            138\n",
       "England                         127\n",
       "China                           122\n",
       "South                           115\n",
       "Jamaica                         106\n",
       "Italy                           105\n",
       "Dominican-Republic              103\n",
       "Japan                            92\n",
       "Poland                           87\n",
       "Guatemala                        86\n",
       "Vietnam                          86\n",
       "Columbia                         85\n",
       "Haiti                            75\n",
       "Portugal                         67\n",
       "Taiwan                           65\n",
       "Iran                             59\n",
       "Greece                           49\n",
       "Nicaragua                        49\n",
       "Peru                             46\n",
       "Ecuador                          45\n",
       "France                           38\n",
       "Ireland                          37\n",
       "Hong                             30\n",
       "Thailand                         30\n",
       "Cambodia                         28\n",
       "Trinadad&Tobago                  27\n",
       "Laos                             23\n",
       "Yugoslavia                       23\n",
       "Outlying-US(Guam-USVI-etc)       23\n",
       "Scotland                         21\n",
       "Honduras                         20\n",
       "Hungary                          19\n",
       "Holand-Netherlands                1\n",
       "Name: native-country, dtype: int64"
      ]
     },
     "execution_count": 16,
     "metadata": {},
     "output_type": "execute_result"
    }
   ],
   "source": [
    "adult_df['native-country'].value_counts()"
   ]
  },
  {
   "cell_type": "markdown",
   "metadata": {
    "id": "bUFsq1mLqd-G"
   },
   "source": [
    "- There are 856 entries of \"?\". These are type of \"missing value\" that should be handled by one hot encoder"
   ]
  },
  {
   "cell_type": "markdown",
   "metadata": {
    "id": "lpYEYtcvv2hD"
   },
   "source": [
    "## Column 1: Work/class (2795?)"
   ]
  },
  {
   "cell_type": "code",
   "execution_count": 17,
   "metadata": {
    "colab": {
     "base_uri": "https://localhost:8080/"
    },
    "id": "C7cj4cgRtwON",
    "outputId": "5f7da606-9083-4549-a703-cf886d69d577"
   },
   "outputs": [
    {
     "data": {
      "text/plain": [
       "Private             33860\n",
       "Self-emp-not-inc     3861\n",
       "Local-gov            3136\n",
       "?                    2795\n",
       "State-gov            1981\n",
       "Self-emp-inc         1694\n",
       "Federal-gov          1432\n",
       "Without-pay            21\n",
       "Never-worked           10\n",
       "Name: workclass, dtype: int64"
      ]
     },
     "execution_count": 17,
     "metadata": {},
     "output_type": "execute_result"
    }
   ],
   "source": [
    "# check Work/class column\n",
    "adult_df['workclass'].value_counts()"
   ]
  },
  {
   "cell_type": "markdown",
   "metadata": {
    "id": "EpOSQ1SMtrkn"
   },
   "source": [
    "- There are 2795 '?'- these need to be changed. "
   ]
  },
  {
   "cell_type": "markdown",
   "metadata": {
    "id": "xifOrRRkwElR"
   },
   "source": [
    "## Column 3: Education (no visible problems)"
   ]
  },
  {
   "cell_type": "code",
   "execution_count": 18,
   "metadata": {
    "colab": {
     "base_uri": "https://localhost:8080/"
    },
    "id": "fx_cghs3uRLX",
    "outputId": "0309afb0-f6bc-4a7d-9fc3-a3345ceb06d5"
   },
   "outputs": [
    {
     "data": {
      "text/plain": [
       "HS-grad         15770\n",
       "Some-college    10863\n",
       "Bachelors        8013\n",
       "Masters          2656\n",
       "Assoc-voc        2060\n",
       "11th             1812\n",
       "Assoc-acdm       1601\n",
       "10th             1389\n",
       "7th-8th           954\n",
       "Prof-school       834\n",
       "9th               756\n",
       "12th              655\n",
       "Doctorate         594\n",
       "5th-6th           507\n",
       "1st-4th           245\n",
       "Preschool          81\n",
       "Name: education, dtype: int64"
      ]
     },
     "execution_count": 18,
     "metadata": {},
     "output_type": "execute_result"
    }
   ],
   "source": [
    "# check education\n",
    "adult_df['education'].value_counts()"
   ]
  },
  {
   "cell_type": "markdown",
   "metadata": {
    "id": "53lAGxJrueZE"
   },
   "source": [
    "- No noticeable problems with these values. "
   ]
  },
  {
   "cell_type": "markdown",
   "metadata": {
    "id": "M-0rCH7AwMe8"
   },
   "source": [
    "## Column 6: Occupation (2805)"
   ]
  },
  {
   "cell_type": "code",
   "execution_count": 19,
   "metadata": {
    "colab": {
     "base_uri": "https://localhost:8080/"
    },
    "id": "NQMYTZdOuoDa",
    "outputId": "7112a01e-464b-4d5c-c840-3bfd1b5171a0"
   },
   "outputs": [
    {
     "data": {
      "text/plain": [
       "Prof-specialty       6165\n",
       "Craft-repair         6102\n",
       "Exec-managerial      6082\n",
       "Adm-clerical         5606\n",
       "Sales                5501\n",
       "Other-service        4919\n",
       "Machine-op-inspct    3017\n",
       "?                    2805\n",
       "Transport-moving     2355\n",
       "Handlers-cleaners    2071\n",
       "Farming-fishing      1485\n",
       "Tech-support         1445\n",
       "Protective-serv       982\n",
       "Priv-house-serv       240\n",
       "Armed-Forces           15\n",
       "Name: occupation, dtype: int64"
      ]
     },
     "execution_count": 19,
     "metadata": {},
     "output_type": "execute_result"
    }
   ],
   "source": [
    "# check occupation column\n",
    "adult_df['occupation'].value_counts()"
   ]
  },
  {
   "cell_type": "markdown",
   "metadata": {
    "id": "oOujFHaouzFQ"
   },
   "source": [
    "- There are 2805 '?' to be addressed"
   ]
  },
  {
   "cell_type": "code",
   "execution_count": 20,
   "metadata": {
    "colab": {
     "base_uri": "https://localhost:8080/"
    },
    "id": "amh9LKp_unfU",
    "outputId": "5f7da606-9083-4549-a703-cf886d69d577"
   },
   "outputs": [
    {
     "data": {
      "text/plain": [
       "Private             33860\n",
       "Self-emp-not-inc     3861\n",
       "Local-gov            3136\n",
       "?                    2795\n",
       "State-gov            1981\n",
       "Self-emp-inc         1694\n",
       "Federal-gov          1432\n",
       "Without-pay            21\n",
       "Never-worked           10\n",
       "Name: workclass, dtype: int64"
      ]
     },
     "execution_count": 20,
     "metadata": {},
     "output_type": "execute_result"
    }
   ],
   "source": [
    "# check Work/class column\n",
    "adult_df['workclass'].value_counts()"
   ]
  },
  {
   "cell_type": "markdown",
   "metadata": {
    "id": "m2YgukPGxG_u"
   },
   "source": [
    "## Column 9: Gender "
   ]
  },
  {
   "cell_type": "code",
   "execution_count": 21,
   "metadata": {
    "colab": {
     "base_uri": "https://localhost:8080/"
    },
    "id": "d_ViaQcrumvj",
    "outputId": "ab91a4d0-0d57-4c56-f67d-95404fb961b6"
   },
   "outputs": [
    {
     "data": {
      "text/plain": [
       "Male      32614\n",
       "Female    16176\n",
       "Name: gender, dtype: int64"
      ]
     },
     "execution_count": 21,
     "metadata": {},
     "output_type": "execute_result"
    }
   ],
   "source": [
    "# check gender column\n",
    "adult_df['gender'].value_counts()"
   ]
  },
  {
   "cell_type": "markdown",
   "metadata": {
    "id": "HAfFpre5xXeb"
   },
   "source": [
    "## Column 14: Income (Target)"
   ]
  },
  {
   "cell_type": "code",
   "execution_count": 22,
   "metadata": {
    "colab": {
     "base_uri": "https://localhost:8080/"
    },
    "id": "l6Dwk98sxQq6",
    "outputId": "124d34a5-399d-41b5-e405-d03500b0e71d"
   },
   "outputs": [
    {
     "data": {
      "text/plain": [
       "<=50K    37109\n",
       ">50K     11681\n",
       "Name: income, dtype: int64"
      ]
     },
     "execution_count": 22,
     "metadata": {},
     "output_type": "execute_result"
    }
   ],
   "source": [
    "# check income column\n",
    "adult_df['income'].value_counts()"
   ]
  },
  {
   "cell_type": "markdown",
   "metadata": {
    "id": "Whb7EdcwIm6u"
   },
   "source": [
    "# Exploratory Visuals"
   ]
  },
  {
   "cell_type": "markdown",
   "metadata": {
    "id": "o0-7BLNqyUqc"
   },
   "source": [
    "## Visuals for Numeric Values"
   ]
  },
  {
   "cell_type": "markdown",
   "metadata": {
    "id": "dnUp54qNGkdR"
   },
   "source": [
    "### Visuals 1 and 2 for gains and losses"
   ]
  },
  {
   "cell_type": "code",
   "execution_count": null,
   "metadata": {
    "id": "t-bCwBt7zPOE"
   },
   "outputs": [],
   "source": []
  },
  {
   "cell_type": "code",
   "execution_count": 23,
   "metadata": {
    "colab": {
     "base_uri": "https://localhost:8080/",
     "height": 325
    },
    "id": "1Kp4isXgyac0",
    "outputId": "b1ac17de-7e90-4357-af52-67a010aa0b34"
   },
   "outputs": [
    {
     "data": {
      "image/png": "[encoded data removed]",
      "text/plain": [
       "<Figure size 800x500 with 1 Axes>"
      ]
     },
     "metadata": {},
     "output_type": "display_data"
    }
   ],
   "source": [
    "# create boxplots for the mean of capital gains  and capital losses\n",
    "\n",
    "fig, axes = plt.subplots(nrows = 1, ncols = 1, figsize = (8,5))\n",
    "boxplots = axes.boxplot([adult_df['capital-gain'], adult_df['capital-loss']],\n",
    "           notch = True,\n",
    "           labels=['Cpaital Gains', 'Capital Losses'],\n",
    "           widths = .7,\n",
    "           patch_artist=True,\n",
    "           medianprops = dict(linestyle='-', linewidth=2, color='Yellow'),\n",
    "           boxprops = dict(linestyle='--', linewidth=2, color='Black', facecolor = 'blue', alpha = .4)\n",
    "          );\n",
    "boxplot1 = boxplots['boxes'][0]\n",
    "boxplot1.set_facecolor('orange')\n",
    "plt.ylabel('Title', fontsize = 20);\n",
    "plt.xticks(fontsize = 16);\n",
    "plt.yticks(fontsize = 16);"
   ]
  },
  {
   "cell_type": "code",
   "execution_count": 24,
   "metadata": {
    "colab": {
     "base_uri": "https://localhost:8080/",
     "height": 348
    },
    "id": "p55XfJeH3ig7",
    "outputId": "de5f3112-af79-4bf5-bd67-c104446281a7"
   },
   "outputs": [
    {
     "data": {
      "image/png": "[encoded data removed]",
      "text/plain": [
       "<Figure size 800x500 with 1 Axes>"
      ]
     },
     "metadata": {},
     "output_type": "display_data"
    }
   ],
   "source": [
    "fig, axes = plt.subplots(nrows = 1, ncols = 1, figsize = (8,5))\n",
    "boxplots = axes.boxplot([adult_df['capital-gain'], adult_df['capital-loss']],\n",
    "           notch = True,\n",
    "           labels=['Gains','Losses'],\n",
    "           widths = .7,\n",
    "           patch_artist=True,\n",
    "           medianprops = dict(linestyle='-', linewidth=2, color='Yellow'),\n",
    "           boxprops = dict(linestyle='--', linewidth=2, color='Black', facecolor = 'blue', alpha = .4)\n",
    "          );\n",
    "boxplot1 = boxplots['boxes'][0]\n",
    "boxplot1.set_facecolor('orange')\n",
    "plt.xlabel('Changes', fontsize = 20);\n",
    "plt.ylabel('Dollars', fontsize = 20);\n",
    "plt.xticks(fontsize = 16);\n",
    "plt.yticks(fontsize = 16);"
   ]
  },
  {
   "cell_type": "code",
   "execution_count": 25,
   "metadata": {
    "colab": {
     "base_uri": "https://localhost:8080/",
     "height": 428
    },
    "id": "JWBcL_HS4c3U",
    "outputId": "8e8f19f5-df3c-46ce-9316-a9f523842c2f"
   },
   "outputs": [
    {
     "data": {
      "image/png": "[encoded data removed]",
      "text/plain": [
       "<Figure size 1000x600 with 1 Axes>"
      ]
     },
     "metadata": {},
     "output_type": "display_data"
    }
   ],
   "source": [
    "# histogram for capital gains and losses\n",
    "\n",
    "plt.figure(figsize=(10,6))\n",
    "adult_df['capital-gain'].hist(bins = 3)\n",
    "adult_df['capital-loss'].hist(bins=3)\n",
    "\n",
    "plt.xlabel(\"Dollars\")\n",
    "plt.title(\"Multiple Histograms of Changes in Assets\")\n",
    "plt.xticks(rotation = 45)\n",
    "plt.ticklabel_format(useOffset=False, style='plain')\n",
    "plt.savefig(\"overlapping_histograms_with_matplotlib_Python.png\")\n"
   ]
  },
  {
   "cell_type": "markdown",
   "metadata": {
    "id": "PtEdawpCqcK9"
   },
   "source": [
    "- There is  range of capital gains that creates a skewed visual for capital gains. "
   ]
  },
  {
   "cell_type": "code",
   "execution_count": 26,
   "metadata": {
    "colab": {
     "base_uri": "https://localhost:8080/",
     "height": 363
    },
    "id": "YJyfHgKG7lLL",
    "outputId": "266b5891-17d9-411a-e039-2c5546289bfc"
   },
   "outputs": [
    {
     "data": {
      "image/png": "[encoded data removed]",
      "text/plain": [
       "<Figure size 640x480 with 1 Axes>"
      ]
     },
     "metadata": {},
     "output_type": "display_data"
    }
   ],
   "source": [
    "# Capital loss single histogram\n",
    "adult_df['capital-loss'].hist(bins=3);\n"
   ]
  },
  {
   "cell_type": "code",
   "execution_count": 27,
   "metadata": {
    "colab": {
     "base_uri": "https://localhost:8080/",
     "height": 375
    },
    "id": "c6iBDXoL8hSr",
    "outputId": "51de09a2-8357-4fb6-9461-98d7098be86e"
   },
   "outputs": [
    {
     "name": "stderr",
     "output_type": "stream",
     "text": [
      "C:\\Users\\Elizabeth Spreng\\AppData\\Local\\Temp\\ipykernel_9380\\2211706056.py:2: MatplotlibDeprecationWarning: The seaborn styles shipped by Matplotlib are deprecated since 3.6, as they no longer correspond to the styles shipped by seaborn. However, they will remain available as 'seaborn-v0_8-<style>'. Alternatively, directly use the seaborn API instead.\n",
      "  plt.style.use('seaborn')\n"
     ]
    },
    {
     "data": {
      "image/png": "[encoded data removed]",
      "text/plain": [
       "<Figure size 800x550 with 1 Axes>"
      ]
     },
     "metadata": {},
     "output_type": "display_data"
    }
   ],
   "source": [
    "# Adding seaborn style \n",
    "plt.style.use('seaborn')\n",
    "loss_filter = adult_df.loc[:, 'capital-loss'] <= 3000\n",
    "adult_df.loc[loss_filter, 'capital-loss'].hist(bins = 3,\n",
    "                                   edgecolor='black')\n",
    "\n",
    "plt.title(\"Histogram of Capital Losses\")\n",
    "plt.xticks(rotation = 45)\n",
    "plt.ticklabel_format(useOffset=False, style='plain')"
   ]
  },
  {
   "cell_type": "markdown",
   "metadata": {
    "id": "j1ZIVHCEGua2"
   },
   "source": [
    "### Visual #3: Age"
   ]
  },
  {
   "cell_type": "code",
   "execution_count": 28,
   "metadata": {
    "colab": {
     "base_uri": "https://localhost:8080/",
     "height": 385
    },
    "id": "e8XQSSCJOfre",
    "outputId": "62e993b2-8b67-41f5-9ae8-e505704fd461"
   },
   "outputs": [
    {
     "data": {
      "image/png": "[encoded data removed]",
      "text/plain": [
       "<Figure size 800x550 with 1 Axes>"
      ]
     },
     "metadata": {},
     "output_type": "display_data"
    }
   ],
   "source": [
    "adult_df['age'].hist(bins = 25)\n",
    "plt.ticklabel_format(useOffset=False, style='plain')\n",
    "plt.xlabel(\"Age\");"
   ]
  },
  {
   "cell_type": "markdown",
   "metadata": {
    "id": "zDbPSCuW9_q2"
   },
   "source": [
    "### Visual #4:  Country of Origin Visuals"
   ]
  },
  {
   "cell_type": "code",
   "execution_count": 29,
   "metadata": {
    "colab": {
     "base_uri": "https://localhost:8080/",
     "height": 482
    },
    "id": "0uEOZJFi9eS-",
    "outputId": "8dc7da5b-1d22-41ac-a5f5-166d62ca4f6d"
   },
   "outputs": [
    {
     "data": {
      "image/png": "[encoded data removed]",
      "text/plain": [
       "<Figure size 800x550 with 1 Axes>"
      ]
     },
     "metadata": {},
     "output_type": "display_data"
    }
   ],
   "source": [
    "# First visuals of country of Origin\n",
    "sns.countplot(x=adult_df[\"native-country\"]);\n",
    "plt.xticks(rotation = 90);\n"
   ]
  },
  {
   "cell_type": "code",
   "execution_count": 30,
   "metadata": {
    "colab": {
     "base_uri": "https://localhost:8080/",
     "height": 317
    },
    "id": "I9yXGXp_D18f",
    "outputId": "afc4af29-8142-41d2-b0ea-3107a5ba2443"
   },
   "outputs": [
    {
     "ename": "IndexingError",
     "evalue": "Too many indexers",
     "output_type": "error",
     "traceback": [
      "\u001b[1;31m---------------------------------------------------------------------------\u001b[0m",
      "\u001b[1;31mIndexingError\u001b[0m                             Traceback (most recent call last)",
      "Cell \u001b[1;32mIn [30], line 1\u001b[0m\n\u001b[1;32m----> 1\u001b[0m country_filter \u001b[38;5;241m=\u001b[39m \u001b[43madult_df\u001b[49m\u001b[38;5;241;43m.\u001b[39;49m\u001b[43mloc\u001b[49m\u001b[43m[\u001b[49m\u001b[38;5;124;43m'\u001b[39;49m\u001b[38;5;124;43mnative-country\u001b[39;49m\u001b[38;5;124;43m'\u001b[39;49m\u001b[43m \u001b[49m\u001b[38;5;241;43m==\u001b[39;49m\u001b[43m \u001b[49m\u001b[38;5;124;43m'\u001b[39;49m\u001b[38;5;124;43mMexico\u001b[39;49m\u001b[38;5;124;43m'\u001b[39;49m\u001b[43m,\u001b[49m\u001b[43m \u001b[49m\u001b[38;5;124;43m'\u001b[39;49m\u001b[38;5;124;43mPhillippines\u001b[39;49m\u001b[38;5;124;43m'\u001b[39;49m\u001b[43m,\u001b[49m\u001b[43m \u001b[49m\u001b[38;5;124;43m'\u001b[39;49m\u001b[38;5;124;43mGermany\u001b[39;49m\u001b[38;5;124;43m'\u001b[39;49m\u001b[43m,\u001b[49m\u001b[43m \u001b[49m\u001b[38;5;124;43m'\u001b[39;49m\u001b[38;5;124;43mPuerto-Rico\u001b[39;49m\u001b[38;5;124;43m'\u001b[39;49m\u001b[43m \u001b[49m\u001b[43m]\u001b[49m\n",
      "File \u001b[1;32m~\\anaconda3\\envs\\dojo-env\\lib\\site-packages\\pandas\\core\\indexing.py:1067\u001b[0m, in \u001b[0;36m_LocationIndexer.__getitem__\u001b[1;34m(self, key)\u001b[0m\n\u001b[0;32m   1065\u001b[0m     \u001b[38;5;28;01mif\u001b[39;00m \u001b[38;5;28mself\u001b[39m\u001b[38;5;241m.\u001b[39m_is_scalar_access(key):\n\u001b[0;32m   1066\u001b[0m         \u001b[38;5;28;01mreturn\u001b[39;00m \u001b[38;5;28mself\u001b[39m\u001b[38;5;241m.\u001b[39mobj\u001b[38;5;241m.\u001b[39m_get_value(\u001b[38;5;241m*\u001b[39mkey, takeable\u001b[38;5;241m=\u001b[39m\u001b[38;5;28mself\u001b[39m\u001b[38;5;241m.\u001b[39m_takeable)\n\u001b[1;32m-> 1067\u001b[0m     \u001b[38;5;28;01mreturn\u001b[39;00m \u001b[38;5;28;43mself\u001b[39;49m\u001b[38;5;241;43m.\u001b[39;49m\u001b[43m_getitem_tuple\u001b[49m\u001b[43m(\u001b[49m\u001b[43mkey\u001b[49m\u001b[43m)\u001b[49m\n\u001b[0;32m   1068\u001b[0m \u001b[38;5;28;01melse\u001b[39;00m:\n\u001b[0;32m   1069\u001b[0m     \u001b[38;5;66;03m# we by definition only have the 0th axis\u001b[39;00m\n\u001b[0;32m   1070\u001b[0m     axis \u001b[38;5;241m=\u001b[39m \u001b[38;5;28mself\u001b[39m\u001b[38;5;241m.\u001b[39maxis \u001b[38;5;129;01mor\u001b[39;00m \u001b[38;5;241m0\u001b[39m\n",
      "File \u001b[1;32m~\\anaconda3\\envs\\dojo-env\\lib\\site-packages\\pandas\\core\\indexing.py:1250\u001b[0m, in \u001b[0;36m_LocIndexer._getitem_tuple\u001b[1;34m(self, tup)\u001b[0m\n\u001b[0;32m   1247\u001b[0m     \u001b[38;5;28;01mreturn\u001b[39;00m \u001b[38;5;28mself\u001b[39m\u001b[38;5;241m.\u001b[39m_getitem_lowerdim(tup)\n\u001b[0;32m   1249\u001b[0m \u001b[38;5;66;03m# no multi-index, so validate all of the indexers\u001b[39;00m\n\u001b[1;32m-> 1250\u001b[0m tup \u001b[38;5;241m=\u001b[39m \u001b[38;5;28;43mself\u001b[39;49m\u001b[38;5;241;43m.\u001b[39;49m\u001b[43m_validate_tuple_indexer\u001b[49m\u001b[43m(\u001b[49m\u001b[43mtup\u001b[49m\u001b[43m)\u001b[49m\n\u001b[0;32m   1252\u001b[0m \u001b[38;5;66;03m# ugly hack for GH #836\u001b[39;00m\n\u001b[0;32m   1253\u001b[0m \u001b[38;5;28;01mif\u001b[39;00m \u001b[38;5;28mself\u001b[39m\u001b[38;5;241m.\u001b[39m_multi_take_opportunity(tup):\n",
      "File \u001b[1;32m~\\anaconda3\\envs\\dojo-env\\lib\\site-packages\\pandas\\core\\indexing.py:869\u001b[0m, in \u001b[0;36m_LocationIndexer._validate_tuple_indexer\u001b[1;34m(self, key)\u001b[0m\n\u001b[0;32m    864\u001b[0m \u001b[38;5;129m@final\u001b[39m\n\u001b[0;32m    865\u001b[0m \u001b[38;5;28;01mdef\u001b[39;00m \u001b[38;5;21m_validate_tuple_indexer\u001b[39m(\u001b[38;5;28mself\u001b[39m, key: \u001b[38;5;28mtuple\u001b[39m) \u001b[38;5;241m-\u001b[39m\u001b[38;5;241m>\u001b[39m \u001b[38;5;28mtuple\u001b[39m:\n\u001b[0;32m    866\u001b[0m     \u001b[38;5;124;03m\"\"\"\u001b[39;00m\n\u001b[0;32m    867\u001b[0m \u001b[38;5;124;03m    Check the key for valid keys across my indexer.\u001b[39;00m\n\u001b[0;32m    868\u001b[0m \u001b[38;5;124;03m    \"\"\"\u001b[39;00m\n\u001b[1;32m--> 869\u001b[0m     key \u001b[38;5;241m=\u001b[39m \u001b[38;5;28;43mself\u001b[39;49m\u001b[38;5;241;43m.\u001b[39;49m\u001b[43m_validate_key_length\u001b[49m\u001b[43m(\u001b[49m\u001b[43mkey\u001b[49m\u001b[43m)\u001b[49m\n\u001b[0;32m    870\u001b[0m     key \u001b[38;5;241m=\u001b[39m \u001b[38;5;28mself\u001b[39m\u001b[38;5;241m.\u001b[39m_expand_ellipsis(key)\n\u001b[0;32m    871\u001b[0m     \u001b[38;5;28;01mfor\u001b[39;00m i, k \u001b[38;5;129;01min\u001b[39;00m \u001b[38;5;28menumerate\u001b[39m(key):\n",
      "File \u001b[1;32m~\\anaconda3\\envs\\dojo-env\\lib\\site-packages\\pandas\\core\\indexing.py:908\u001b[0m, in \u001b[0;36m_LocationIndexer._validate_key_length\u001b[1;34m(self, key)\u001b[0m\n\u001b[0;32m    906\u001b[0m             \u001b[38;5;28;01mraise\u001b[39;00m IndexingError(_one_ellipsis_message)\n\u001b[0;32m    907\u001b[0m         \u001b[38;5;28;01mreturn\u001b[39;00m \u001b[38;5;28mself\u001b[39m\u001b[38;5;241m.\u001b[39m_validate_key_length(key)\n\u001b[1;32m--> 908\u001b[0m     \u001b[38;5;28;01mraise\u001b[39;00m IndexingError(\u001b[38;5;124m\"\u001b[39m\u001b[38;5;124mToo many indexers\u001b[39m\u001b[38;5;124m\"\u001b[39m)\n\u001b[0;32m    909\u001b[0m \u001b[38;5;28;01mreturn\u001b[39;00m key\n",
      "\u001b[1;31mIndexingError\u001b[0m: Too many indexers"
     ]
    }
   ],
   "source": [
    "country_filter = adult_df.loc['native-country' == 'Mexico', 'Phillippines', 'Germany', 'Puerto-Rico' ]"
   ]
  },
  {
   "cell_type": "code",
   "execution_count": null,
   "metadata": {
    "colab": {
     "base_uri": "https://localhost:8080/",
     "height": 317
    },
    "id": "PcSKY4ntPLI_",
    "outputId": "be3200e5-83ba-4502-b669-42b91e79a09d"
   },
   "outputs": [],
   "source": [
    "country_filter = adult_df.loc['native-country' == 'Germany']"
   ]
  },
  {
   "cell_type": "code",
   "execution_count": null,
   "metadata": {
    "id": "bRWGN5EzQXKo"
   },
   "outputs": [],
   "source": [
    "country_filter = adult_df[adult_df['native-country'] == 'United States']\n"
   ]
  },
  {
   "cell_type": "code",
   "execution_count": null,
   "metadata": {
    "colab": {
     "base_uri": "https://localhost:8080/",
     "height": 334
    },
    "id": "VaR6tWqjQ3Fz",
    "outputId": "01283cd1-def0-489b-a018-6630f51cf331"
   },
   "outputs": [],
   "source": [
    "sns.countplot(x=adult_df[country_filter]);\n",
    "plt.xticks(rotation = 90);"
   ]
  },
  {
   "cell_type": "markdown",
   "metadata": {
    "id": "siLpJDNoG0yA"
   },
   "source": [
    "### Visual #5 Relationship"
   ]
  },
  {
   "cell_type": "code",
   "execution_count": null,
   "metadata": {
    "colab": {
     "base_uri": "https://localhost:8080/",
     "height": 459
    },
    "id": "HIbVd7cCG8dv",
    "outputId": "8c6da2db-d5f5-486e-b56b-2031a9ad2ad0"
   },
   "outputs": [],
   "source": [
    "\n"
   ]
  },
  {
   "cell_type": "code",
   "execution_count": null,
   "metadata": {
    "colab": {
     "base_uri": "https://localhost:8080/",
     "height": 459
    },
    "id": "ZaNjxqlrJ81_",
    "outputId": "6c5c9d10-902f-463b-fe17-d98c4046d667"
   },
   "outputs": [],
   "source": [
    "#create relationship countplot\n",
    "sns.set_context('talk')\n",
    "with plt.style.context('seaborn-white'):\n",
    "  fig, ax =plt.subplots()\n",
    "plt.rcParams['font.family'] = 'serif'\n",
    "ax = sns.countplot(data=adult_df,x='relationship')\n",
    "ax.set_title('Race', fontfamily='serif',fontsize = 20, fontweight = 'bold');\n",
    "ax.set_xlabel('Race', fontfamily= 'serif', fontsize = 15, fontweight = 'bold')\n",
    "plt.xticks(rotation = 45);\n",
    "ax.spines['right'].set_visible(False)\n",
    "ax.spines['top'].set_visible(False) "
   ]
  },
  {
   "cell_type": "markdown",
   "metadata": {
    "id": "6R_awz-UJaNu"
   },
   "source": [
    "### Visual #6 Race"
   ]
  },
  {
   "cell_type": "code",
   "execution_count": null,
   "metadata": {
    "colab": {
     "base_uri": "https://localhost:8080/",
     "height": 494
    },
    "id": "3-ejwmoyJqLH",
    "outputId": "afe9a705-cdfb-455d-f93e-cc24576d165f"
   },
   "outputs": [],
   "source": [
    "#create race countplot\n",
    "sns.set_context('talk')\n",
    "with plt.style.context('seaborn-white'):\n",
    "  fig, ax =plt.subplots()\n",
    "plt.rcParams['font.family'] = 'serif'\n",
    "ax = sns.countplot(data=adult_df,x='race')\n",
    "ax.set_title('Race', fontfamily='serif',fontsize = 20, fontweight = 'bold');\n",
    "ax.set_xlabel('Race', fontfamily= 'serif', fontsize = 15, fontweight = 'bold')\n",
    "plt.xticks(rotation = 45);\n",
    "ax.spines['right'].set_visible(False)\n",
    "ax.spines['top'].set_visible(False) "
   ]
  },
  {
   "cell_type": "markdown",
   "metadata": {
    "id": "pv9K08M4KKRL"
   },
   "source": [
    "### Visual #7: Gender"
   ]
  },
  {
   "cell_type": "code",
   "execution_count": null,
   "metadata": {
    "colab": {
     "base_uri": "https://localhost:8080/",
     "height": 427
    },
    "id": "1OKwElzRKOsk",
    "outputId": "9f93e220-558c-496c-94b9-62743cc48953"
   },
   "outputs": [],
   "source": [
    "#create race countplot\n",
    "sns.set_context('talk')\n",
    "with plt.style.context('seaborn-white'):\n",
    "  fig, ax =plt.subplots()\n",
    "plt.rcParams['font.family'] = 'serif'\n",
    "ax = sns.countplot(data=adult_df,x='gender')\n",
    "ax.set_title('Gender', fontfamily='serif',fontsize = 20, fontweight = 'bold');\n",
    "ax.set_xlabel('Gender', fontfamily= 'serif', fontsize = 15, fontweight = 'bold')\n",
    "plt.xticks(rotation = 45);\n",
    "ax.spines['right'].set_visible(False)\n",
    "ax.spines['top'].set_visible(False) "
   ]
  },
  {
   "cell_type": "markdown",
   "metadata": {
    "id": "G9iEEnG9KsPw"
   },
   "source": [
    "### Visual #8: Education with countplot"
   ]
  },
  {
   "cell_type": "code",
   "execution_count": null,
   "metadata": {
    "colab": {
     "base_uri": "https://localhost:8080/",
     "height": 469
    },
    "id": "CGnPWTs8Kd40",
    "outputId": "290fcb14-662f-4526-f382-a3d1cd7fea8b"
   },
   "outputs": [],
   "source": [
    "#create preliminary countplot for education\n",
    "sns.set_context('talk')\n",
    "with plt.style.context('seaborn-white'):\n",
    "  fig, ax =plt.subplots()\n",
    "plt.rcParams['font.family'] = 'serif'\n",
    "ax = sns.countplot(data=adult_df,x='education')\n",
    "ax.set_title('Education', fontfamily='serif',fontsize = 20, fontweight = 'bold');\n",
    "ax.set_xlabel('Education', fontfamily= 'serif', fontsize = 15, fontweight = 'bold')\n",
    "plt.xticks(rotation = 55);\n",
    "ax.spines['right'].set_visible(False)\n",
    "ax.spines['top'].set_visible(False) "
   ]
  },
  {
   "cell_type": "markdown",
   "metadata": {
    "id": "g5CLGWxeK084"
   },
   "source": [
    "### Visual #10 Education (numeric)"
   ]
  },
  {
   "cell_type": "code",
   "execution_count": null,
   "metadata": {
    "colab": {
     "base_uri": "https://localhost:8080/",
     "height": 385
    },
    "id": "qm1e4wDIKyX-",
    "outputId": "9eae1c83-6eca-49f3-aa90-0c5870f8614d"
   },
   "outputs": [],
   "source": [
    "# preliminary historgram for education numeric\n",
    "adult_df['educational-num'].hist(bins = 10)\n",
    "plt.ticklabel_format(useOffset=False, style='plain')\n",
    "plt.xlabel(\"Years of Education\");\n"
   ]
  },
  {
   "cell_type": "markdown",
   "metadata": {
    "id": "mI14x2_5MvNp"
   },
   "source": [
    "### Visual #11: Occupation"
   ]
  },
  {
   "cell_type": "code",
   "execution_count": null,
   "metadata": {
    "colab": {
     "base_uri": "https://localhost:8080/",
     "height": 492
    },
    "id": "bsBCeF1nM4oy",
    "outputId": "0aadbc45-1012-49d0-83b7-e77a569d1940"
   },
   "outputs": [],
   "source": [
    "sns.set_context('talk')\n",
    "with plt.style.context('seaborn-white'):\n",
    "  fig, ax =plt.subplots()\n",
    "plt.rcParams['font.family'] = 'serif'\n",
    "ax = sns.countplot(data=adult_df,x='occupation')\n",
    "ax.set_title('Occupation', fontfamily='serif',fontsize = 20, fontweight = 'bold');\n",
    "ax.set_xlabel('Occupation', fontfamily= 'serif', fontsize = 10, fontweight = 'bold')\n",
    "plt.xticks(rotation = 55);\n",
    "ax.spines['right'].set_visible(False)\n",
    "ax.spines['top'].set_visible(False) "
   ]
  },
  {
   "cell_type": "markdown",
   "metadata": {
    "id": "uNbAKmJEN4Ne"
   },
   "source": [
    "### Visual #12: Hours Worked per Week"
   ]
  },
  {
   "cell_type": "code",
   "execution_count": null,
   "metadata": {
    "colab": {
     "base_uri": "https://localhost:8080/",
     "height": 385
    },
    "id": "iUEj6Se4NSUD",
    "outputId": "691231c1-90f2-44c5-a539-54820c45e72f"
   },
   "outputs": [],
   "source": [
    "## histogram for hours per week\n",
    "adult_df['hours-per-week'].hist(bins = 5)\n",
    "plt.ticklabel_format(useOffset=False, style='plain')\n",
    "plt.xlabel(\"Hours Worked per Week\");\n"
   ]
  },
  {
   "cell_type": "markdown",
   "metadata": {
    "id": "kYBDBYyPFqpB"
   },
   "source": [
    "# Summary and Further Recommendations\n",
    "\n",
    "\n",
    "1.   Outliers: Exist in the income column at over 100,000. There also outliers in capital  gains and losses. \n",
    "2.   The data is heavily skewed to United States as native country\n",
    "3.   The discrepancy between husband and wife\n",
    "4.   In education there are a few of the preschool category, this needs more investigation\n",
    "5.   Relationship, race, gender, occupation, and hours worked per week have no noticable issues. However in the current US demographics there are many individuals who do not identify as male or female. \n",
    "\n",
    "\n",
    "\n",
    "\n",
    "\n",
    "\n"
   ]
  }
 ],
 "metadata": {
  "colab": {
   "authorship_tag": "ABX9TyNHSelZSyUCT45BkwFNbMrM",
   "include_colab_link": true,
   "mount_file_id": "12a456H15E0xoEHLvLfIpW8T2nco9x022",
   "provenance": [],
   "toc_visible": true
  },
  "kernelspec": {
   "display_name": "Python 3 (ipykernel)",
   "language": "python",
   "name": "python3"
  },
  "language_info": {
   "codemirror_mode": {
    "name": "ipython",
    "version": 3
   },
   "file_extension": ".py",
   "mimetype": "text/x-python",
   "name": "python",
   "nbconvert_exporter": "python",
   "pygments_lexer": "ipython3",
   "version": "3.9.15"
  },
  "toc": {
   "base_numbering": 1,
   "nav_menu": {},
   "number_sections": true,
   "sideBar": true,
   "skip_h1_title": false,
   "title_cell": "Table of Contents",
   "title_sidebar": "Contents",
   "toc_cell": false,
   "toc_position": {},
   "toc_section_display": true,
   "toc_window_display": false
  }
 },
 "nbformat": 4,
 "nbformat_minor": 1
}

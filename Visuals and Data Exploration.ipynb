{
 "cells": [
  {
   "cell_type": "markdown",
   "id": "d5265dd3",
   "metadata": {},
   "source": [
    "#### In this notebook, preliminary visuals include boxplots and univariate visuals. Data exploration includes cleaning unknown entries. "
   ]
  },
  {
   "cell_type": "markdown",
   "id": "aa6ebaab",
   "metadata": {},
   "source": [
    "# Create Project"
   ]
  },
  {
   "cell_type": "code",
   "execution_count": 60,
   "id": "4bcd6685",
   "metadata": {},
   "outputs": [],
   "source": [
    "#import libraries \n",
    "import matplotlib.pyplot as plt\n",
    "import seaborn as sns\n",
    "import pandas as pd\n",
    "import numpy as np\n",
    "\n",
    "##additional visuals\n",
    "from matplotlib.ticker import StrMethodFormatter\n",
    "import matplotlib.ticker as ticker\n",
    "\n",
    "## Preprocessing\n",
    "from sklearn.model_selection import train_test_split\n",
    "from sklearn.compose import make_column_selector\n",
    "from sklearn.preprocessing import StandardScaler, OneHotEncoder\n",
    "from sklearn.impute import SimpleImputer\n",
    "from sklearn.pipeline import make_pipeline\n",
    "from sklearn.compose import make_column_transformer\n",
    "\n",
    "#Classification Libraries\n",
    "from sklearn.neighbors import KNeighborsClassifier\n",
    "from sklearn.linear_model import LogisticRegression\n",
    "from sklearn.tree import DecisionTreeClassifier\n",
    "from sklearn.ensemble import BaggingClassifier\n",
    "from sklearn.ensemble import RandomForestClassifier\n",
    "\n",
    "# Classification Metrics\n",
    "from sklearn.metrics import accuracy_score, recall_score, precision_score, \\\n",
    "f1_score, classification_report, confusion_matrix, ConfusionMatrixDisplay\n",
    "from sklearn.metrics import roc_auc_score, RocCurveDisplay\n",
    "## Tree Model Visualization\n",
    "from sklearn.tree import plot_tree\n",
    "\n",
    "## Import Models\n",
    "from sklearn.dummy import DummyRegressor\n",
    "from sklearn.linear_model import LinearRegression\n",
    "from sklearn.tree import DecisionTreeRegressor\n",
    "from sklearn.ensemble import RandomForestRegressor\n",
    "from sklearn.ensemble import BaggingRegressor\n",
    "\n",
    "##Set up configuation display\n",
    "from sklearn import set_config\n",
    "set_config(display='diagram') # 'text' or 'diagram'}\n"
   ]
  },
  {
   "cell_type": "code",
   "execution_count": 2,
   "id": "54392a20",
   "metadata": {},
   "outputs": [],
   "source": [
    "#load data and create dataframe\n",
    "filename2 = 'Data/adult[1].csv'\n",
    "adult_df = pd.read_csv(filename2)"
   ]
  },
  {
   "cell_type": "markdown",
   "id": "6bc5ca4d",
   "metadata": {},
   "source": [
    "# Data Cleaning and Exploration"
   ]
  },
  {
   "cell_type": "code",
   "execution_count": 3,
   "id": "ed27c265",
   "metadata": {},
   "outputs": [
    {
     "data": {
      "text/html": [
       "<div>\n",
       "<style scoped>\n",
       "    .dataframe tbody tr th:only-of-type {\n",
       "        vertical-align: middle;\n",
       "    }\n",
       "\n",
       "    .dataframe tbody tr th {\n",
       "        vertical-align: top;\n",
       "    }\n",
       "\n",
       "    .dataframe thead th {\n",
       "        text-align: right;\n",
       "    }\n",
       "</style>\n",
       "<table border=\"1\" class=\"dataframe\">\n",
       "  <thead>\n",
       "    <tr style=\"text-align: right;\">\n",
       "      <th></th>\n",
       "      <th>age</th>\n",
       "      <th>workclass</th>\n",
       "      <th>fnlwgt</th>\n",
       "      <th>education</th>\n",
       "      <th>educational-num</th>\n",
       "      <th>marital-status</th>\n",
       "      <th>occupation</th>\n",
       "      <th>relationship</th>\n",
       "      <th>race</th>\n",
       "      <th>gender</th>\n",
       "      <th>capital-gain</th>\n",
       "      <th>capital-loss</th>\n",
       "      <th>hours-per-week</th>\n",
       "      <th>native-country</th>\n",
       "      <th>income</th>\n",
       "    </tr>\n",
       "  </thead>\n",
       "  <tbody>\n",
       "    <tr>\n",
       "      <th>0</th>\n",
       "      <td>25</td>\n",
       "      <td>Private</td>\n",
       "      <td>226802</td>\n",
       "      <td>11th</td>\n",
       "      <td>7</td>\n",
       "      <td>Never-married</td>\n",
       "      <td>Machine-op-inspct</td>\n",
       "      <td>Own-child</td>\n",
       "      <td>Black</td>\n",
       "      <td>Male</td>\n",
       "      <td>0</td>\n",
       "      <td>0</td>\n",
       "      <td>40</td>\n",
       "      <td>United-States</td>\n",
       "      <td>&lt;=50K</td>\n",
       "    </tr>\n",
       "    <tr>\n",
       "      <th>1</th>\n",
       "      <td>38</td>\n",
       "      <td>Private</td>\n",
       "      <td>89814</td>\n",
       "      <td>HS-grad</td>\n",
       "      <td>9</td>\n",
       "      <td>Married-civ-spouse</td>\n",
       "      <td>Farming-fishing</td>\n",
       "      <td>Husband</td>\n",
       "      <td>White</td>\n",
       "      <td>Male</td>\n",
       "      <td>0</td>\n",
       "      <td>0</td>\n",
       "      <td>50</td>\n",
       "      <td>United-States</td>\n",
       "      <td>&lt;=50K</td>\n",
       "    </tr>\n",
       "    <tr>\n",
       "      <th>2</th>\n",
       "      <td>28</td>\n",
       "      <td>Local-gov</td>\n",
       "      <td>336951</td>\n",
       "      <td>Assoc-acdm</td>\n",
       "      <td>12</td>\n",
       "      <td>Married-civ-spouse</td>\n",
       "      <td>Protective-serv</td>\n",
       "      <td>Husband</td>\n",
       "      <td>White</td>\n",
       "      <td>Male</td>\n",
       "      <td>0</td>\n",
       "      <td>0</td>\n",
       "      <td>40</td>\n",
       "      <td>United-States</td>\n",
       "      <td>&gt;50K</td>\n",
       "    </tr>\n",
       "    <tr>\n",
       "      <th>3</th>\n",
       "      <td>44</td>\n",
       "      <td>Private</td>\n",
       "      <td>160323</td>\n",
       "      <td>Some-college</td>\n",
       "      <td>10</td>\n",
       "      <td>Married-civ-spouse</td>\n",
       "      <td>Machine-op-inspct</td>\n",
       "      <td>Husband</td>\n",
       "      <td>Black</td>\n",
       "      <td>Male</td>\n",
       "      <td>7688</td>\n",
       "      <td>0</td>\n",
       "      <td>40</td>\n",
       "      <td>United-States</td>\n",
       "      <td>&gt;50K</td>\n",
       "    </tr>\n",
       "    <tr>\n",
       "      <th>4</th>\n",
       "      <td>18</td>\n",
       "      <td>?</td>\n",
       "      <td>103497</td>\n",
       "      <td>Some-college</td>\n",
       "      <td>10</td>\n",
       "      <td>Never-married</td>\n",
       "      <td>?</td>\n",
       "      <td>Own-child</td>\n",
       "      <td>White</td>\n",
       "      <td>Female</td>\n",
       "      <td>0</td>\n",
       "      <td>0</td>\n",
       "      <td>30</td>\n",
       "      <td>United-States</td>\n",
       "      <td>&lt;=50K</td>\n",
       "    </tr>\n",
       "  </tbody>\n",
       "</table>\n",
       "</div>"
      ],
      "text/plain": [
       "   age  workclass  fnlwgt     education  educational-num      marital-status  \\\n",
       "0   25    Private  226802          11th                7       Never-married   \n",
       "1   38    Private   89814       HS-grad                9  Married-civ-spouse   \n",
       "2   28  Local-gov  336951    Assoc-acdm               12  Married-civ-spouse   \n",
       "3   44    Private  160323  Some-college               10  Married-civ-spouse   \n",
       "4   18          ?  103497  Some-college               10       Never-married   \n",
       "\n",
       "          occupation relationship   race  gender  capital-gain  capital-loss  \\\n",
       "0  Machine-op-inspct    Own-child  Black    Male             0             0   \n",
       "1    Farming-fishing      Husband  White    Male             0             0   \n",
       "2    Protective-serv      Husband  White    Male             0             0   \n",
       "3  Machine-op-inspct      Husband  Black    Male          7688             0   \n",
       "4                  ?    Own-child  White  Female             0             0   \n",
       "\n",
       "   hours-per-week native-country income  \n",
       "0              40  United-States  <=50K  \n",
       "1              50  United-States  <=50K  \n",
       "2              40  United-States   >50K  \n",
       "3              40  United-States   >50K  \n",
       "4              30  United-States  <=50K  "
      ]
     },
     "execution_count": 3,
     "metadata": {},
     "output_type": "execute_result"
    }
   ],
   "source": [
    "#  Inspect the first (5) rows of the dataframe\n",
    "adult_df.head()"
   ]
  },
  {
   "cell_type": "code",
   "execution_count": 13,
   "id": "ad504a24",
   "metadata": {},
   "outputs": [
    {
     "name": "stdout",
     "output_type": "stream",
     "text": [
      "There are 48842 rows, and 15 columns.\n",
      "The rows represent 48842 participants.\n",
      "The columns represent 14 features and 1 target variable.\n"
     ]
    }
   ],
   "source": [
    "## Display the number of rows and columns for the dataframe\n",
    "adult_df.shape\n",
    "print(f'There are {adult_df.shape[0]} rows, and {adult_df.shape[1]} columns.')\n",
    "print(f'The rows represent {adult_df.shape[0]} participants.') \n",
    "print(f'The columns represent {adult_df. shape[1]-1} features and 1 target variable.')"
   ]
  },
  {
   "cell_type": "code",
   "execution_count": 14,
   "id": "22943845",
   "metadata": {},
   "outputs": [
    {
     "name": "stdout",
     "output_type": "stream",
     "text": [
      "<class 'pandas.core.frame.DataFrame'>\n",
      "RangeIndex: 48842 entries, 0 to 48841\n",
      "Data columns (total 15 columns):\n",
      " #   Column           Non-Null Count  Dtype \n",
      "---  ------           --------------  ----- \n",
      " 0   age              48842 non-null  int64 \n",
      " 1   workclass        48842 non-null  object\n",
      " 2   fnlwgt           48842 non-null  int64 \n",
      " 3   education        48842 non-null  object\n",
      " 4   educational-num  48842 non-null  int64 \n",
      " 5   marital-status   48842 non-null  object\n",
      " 6   occupation       48842 non-null  object\n",
      " 7   relationship     48842 non-null  object\n",
      " 8   race             48842 non-null  object\n",
      " 9   gender           48842 non-null  object\n",
      " 10  capital-gain     48842 non-null  int64 \n",
      " 11  capital-loss     48842 non-null  int64 \n",
      " 12  hours-per-week   48842 non-null  int64 \n",
      " 13  native-country   48842 non-null  object\n",
      " 14  income           48842 non-null  object\n",
      "dtypes: int64(6), object(9)\n",
      "memory usage: 5.6+ MB\n"
     ]
    }
   ],
   "source": [
    "# check the info\n",
    "adult_df.info()"
   ]
  },
  {
   "cell_type": "markdown",
   "id": "10f83515",
   "metadata": {},
   "source": [
    "#### All data types appear correct and there are no unnecessary rows. "
   ]
  },
  {
   "cell_type": "code",
   "execution_count": null,
   "id": "651a1fa4",
   "metadata": {},
   "outputs": [],
   "source": [
    "# check the info\n",
    "adult_df.info()"
   ]
  },
  {
   "cell_type": "code",
   "execution_count": 15,
   "id": "4f5bc61b",
   "metadata": {},
   "outputs": [
    {
     "name": "stdout",
     "output_type": "stream",
     "text": [
      "There are 52 duplicate rows.\n"
     ]
    }
   ],
   "source": [
    "# Display the number of duplicate rows\n",
    "print(f'There are {adult_df.duplicated().sum()} duplicate rows.')"
   ]
  },
  {
   "cell_type": "code",
   "execution_count": 16,
   "id": "6af44fc7",
   "metadata": {},
   "outputs": [
    {
     "name": "stdout",
     "output_type": "stream",
     "text": [
      "There are 0 duplicate rows.\n"
     ]
    }
   ],
   "source": [
    "# Drop duplicate rows\n",
    "adult_df = adult_df.drop_duplicates()\n",
    "print(f'There are {adult_df.duplicated().sum()} duplicate rows.')"
   ]
  },
  {
   "cell_type": "code",
   "execution_count": 17,
   "id": "0192692e",
   "metadata": {},
   "outputs": [
    {
     "data": {
      "text/plain": [
       "age                0\n",
       "workclass          0\n",
       "fnlwgt             0\n",
       "education          0\n",
       "educational-num    0\n",
       "marital-status     0\n",
       "occupation         0\n",
       "relationship       0\n",
       "race               0\n",
       "gender             0\n",
       "capital-gain       0\n",
       "capital-loss       0\n",
       "hours-per-week     0\n",
       "native-country     0\n",
       "income             0\n",
       "dtype: int64"
      ]
     },
     "execution_count": 17,
     "metadata": {},
     "output_type": "execute_result"
    }
   ],
   "source": [
    "# Checking for missing values\n",
    "adult_df.isna().sum()"
   ]
  },
  {
   "cell_type": "markdown",
   "id": "e269db5e",
   "metadata": {},
   "source": [
    "## Check  column types for inconsistencies"
   ]
  },
  {
   "cell_type": "code",
   "execution_count": 18,
   "id": "bddf4ef5",
   "metadata": {
    "scrolled": true
   },
   "outputs": [
    {
     "data": {
      "text/html": [
       "<div>\n",
       "<style scoped>\n",
       "    .dataframe tbody tr th:only-of-type {\n",
       "        vertical-align: middle;\n",
       "    }\n",
       "\n",
       "    .dataframe tbody tr th {\n",
       "        vertical-align: top;\n",
       "    }\n",
       "\n",
       "    .dataframe thead th {\n",
       "        text-align: right;\n",
       "    }\n",
       "</style>\n",
       "<table border=\"1\" class=\"dataframe\">\n",
       "  <thead>\n",
       "    <tr style=\"text-align: right;\">\n",
       "      <th></th>\n",
       "      <th>age</th>\n",
       "      <th>fnlwgt</th>\n",
       "      <th>educational-num</th>\n",
       "      <th>capital-gain</th>\n",
       "      <th>capital-loss</th>\n",
       "      <th>hours-per-week</th>\n",
       "    </tr>\n",
       "  </thead>\n",
       "  <tbody>\n",
       "    <tr>\n",
       "      <th>count</th>\n",
       "      <td>48790.000000</td>\n",
       "      <td>4.879000e+04</td>\n",
       "      <td>48790.000000</td>\n",
       "      <td>48790.000000</td>\n",
       "      <td>48790.000000</td>\n",
       "      <td>48790.000000</td>\n",
       "    </tr>\n",
       "    <tr>\n",
       "      <th>mean</th>\n",
       "      <td>38.652798</td>\n",
       "      <td>1.896690e+05</td>\n",
       "      <td>10.078807</td>\n",
       "      <td>1080.217688</td>\n",
       "      <td>87.595573</td>\n",
       "      <td>40.425886</td>\n",
       "    </tr>\n",
       "    <tr>\n",
       "      <th>std</th>\n",
       "      <td>13.708493</td>\n",
       "      <td>1.056172e+05</td>\n",
       "      <td>2.570046</td>\n",
       "      <td>7455.905921</td>\n",
       "      <td>403.209129</td>\n",
       "      <td>12.392729</td>\n",
       "    </tr>\n",
       "    <tr>\n",
       "      <th>min</th>\n",
       "      <td>17.000000</td>\n",
       "      <td>1.228500e+04</td>\n",
       "      <td>1.000000</td>\n",
       "      <td>0.000000</td>\n",
       "      <td>0.000000</td>\n",
       "      <td>1.000000</td>\n",
       "    </tr>\n",
       "    <tr>\n",
       "      <th>25%</th>\n",
       "      <td>28.000000</td>\n",
       "      <td>1.175550e+05</td>\n",
       "      <td>9.000000</td>\n",
       "      <td>0.000000</td>\n",
       "      <td>0.000000</td>\n",
       "      <td>40.000000</td>\n",
       "    </tr>\n",
       "    <tr>\n",
       "      <th>50%</th>\n",
       "      <td>37.000000</td>\n",
       "      <td>1.781385e+05</td>\n",
       "      <td>10.000000</td>\n",
       "      <td>0.000000</td>\n",
       "      <td>0.000000</td>\n",
       "      <td>40.000000</td>\n",
       "    </tr>\n",
       "    <tr>\n",
       "      <th>75%</th>\n",
       "      <td>48.000000</td>\n",
       "      <td>2.376062e+05</td>\n",
       "      <td>12.000000</td>\n",
       "      <td>0.000000</td>\n",
       "      <td>0.000000</td>\n",
       "      <td>45.000000</td>\n",
       "    </tr>\n",
       "    <tr>\n",
       "      <th>max</th>\n",
       "      <td>90.000000</td>\n",
       "      <td>1.490400e+06</td>\n",
       "      <td>16.000000</td>\n",
       "      <td>99999.000000</td>\n",
       "      <td>4356.000000</td>\n",
       "      <td>99.000000</td>\n",
       "    </tr>\n",
       "  </tbody>\n",
       "</table>\n",
       "</div>"
      ],
      "text/plain": [
       "                age        fnlwgt  educational-num  capital-gain  \\\n",
       "count  48790.000000  4.879000e+04     48790.000000  48790.000000   \n",
       "mean      38.652798  1.896690e+05        10.078807   1080.217688   \n",
       "std       13.708493  1.056172e+05         2.570046   7455.905921   \n",
       "min       17.000000  1.228500e+04         1.000000      0.000000   \n",
       "25%       28.000000  1.175550e+05         9.000000      0.000000   \n",
       "50%       37.000000  1.781385e+05        10.000000      0.000000   \n",
       "75%       48.000000  2.376062e+05        12.000000      0.000000   \n",
       "max       90.000000  1.490400e+06        16.000000  99999.000000   \n",
       "\n",
       "       capital-loss  hours-per-week  \n",
       "count  48790.000000    48790.000000  \n",
       "mean      87.595573       40.425886  \n",
       "std      403.209129       12.392729  \n",
       "min        0.000000        1.000000  \n",
       "25%        0.000000       40.000000  \n",
       "50%        0.000000       40.000000  \n",
       "75%        0.000000       45.000000  \n",
       "max     4356.000000       99.000000  "
      ]
     },
     "execution_count": 18,
     "metadata": {},
     "output_type": "execute_result"
    }
   ],
   "source": [
    "# Check the numeric columns for inconsistencies\n",
    "adult_df.describe(include=\"number\")"
   ]
  },
  {
   "cell_type": "code",
   "execution_count": 19,
   "id": "0db9b917",
   "metadata": {
    "scrolled": true
   },
   "outputs": [
    {
     "data": {
      "text/html": [
       "<div>\n",
       "<style scoped>\n",
       "    .dataframe tbody tr th:only-of-type {\n",
       "        vertical-align: middle;\n",
       "    }\n",
       "\n",
       "    .dataframe tbody tr th {\n",
       "        vertical-align: top;\n",
       "    }\n",
       "\n",
       "    .dataframe thead th {\n",
       "        text-align: right;\n",
       "    }\n",
       "</style>\n",
       "<table border=\"1\" class=\"dataframe\">\n",
       "  <thead>\n",
       "    <tr style=\"text-align: right;\">\n",
       "      <th></th>\n",
       "      <th>workclass</th>\n",
       "      <th>education</th>\n",
       "      <th>marital-status</th>\n",
       "      <th>occupation</th>\n",
       "      <th>relationship</th>\n",
       "      <th>race</th>\n",
       "      <th>gender</th>\n",
       "      <th>native-country</th>\n",
       "      <th>income</th>\n",
       "    </tr>\n",
       "  </thead>\n",
       "  <tbody>\n",
       "    <tr>\n",
       "      <th>count</th>\n",
       "      <td>48790</td>\n",
       "      <td>48790</td>\n",
       "      <td>48790</td>\n",
       "      <td>48790</td>\n",
       "      <td>48790</td>\n",
       "      <td>48790</td>\n",
       "      <td>48790</td>\n",
       "      <td>48790</td>\n",
       "      <td>48790</td>\n",
       "    </tr>\n",
       "    <tr>\n",
       "      <th>unique</th>\n",
       "      <td>9</td>\n",
       "      <td>16</td>\n",
       "      <td>7</td>\n",
       "      <td>15</td>\n",
       "      <td>6</td>\n",
       "      <td>5</td>\n",
       "      <td>2</td>\n",
       "      <td>42</td>\n",
       "      <td>2</td>\n",
       "    </tr>\n",
       "    <tr>\n",
       "      <th>top</th>\n",
       "      <td>Private</td>\n",
       "      <td>HS-grad</td>\n",
       "      <td>Married-civ-spouse</td>\n",
       "      <td>Prof-specialty</td>\n",
       "      <td>Husband</td>\n",
       "      <td>White</td>\n",
       "      <td>Male</td>\n",
       "      <td>United-States</td>\n",
       "      <td>&lt;=50K</td>\n",
       "    </tr>\n",
       "    <tr>\n",
       "      <th>freq</th>\n",
       "      <td>33860</td>\n",
       "      <td>15770</td>\n",
       "      <td>22366</td>\n",
       "      <td>6165</td>\n",
       "      <td>19703</td>\n",
       "      <td>41714</td>\n",
       "      <td>32614</td>\n",
       "      <td>43792</td>\n",
       "      <td>37109</td>\n",
       "    </tr>\n",
       "  </tbody>\n",
       "</table>\n",
       "</div>"
      ],
      "text/plain": [
       "       workclass education      marital-status      occupation relationship  \\\n",
       "count      48790     48790               48790           48790        48790   \n",
       "unique         9        16                   7              15            6   \n",
       "top      Private   HS-grad  Married-civ-spouse  Prof-specialty      Husband   \n",
       "freq       33860     15770               22366            6165        19703   \n",
       "\n",
       "         race gender native-country income  \n",
       "count   48790  48790          48790  48790  \n",
       "unique      5      2             42      2  \n",
       "top     White   Male  United-States  <=50K  \n",
       "freq    41714  32614          43792  37109  "
      ]
     },
     "execution_count": 19,
     "metadata": {},
     "output_type": "execute_result"
    }
   ],
   "source": [
    "# Check the object columns for inconsistencies\n",
    "adult_df.describe(include=\"object\")"
   ]
  },
  {
   "cell_type": "markdown",
   "id": "4d552db3",
   "metadata": {},
   "source": [
    "#### To clean data there are several steps\n",
    "  1. Remove educational numerical\n",
    "  2. Remove \"?\" from data set\n",
    "  3. Create hours per week based on part time and full time\n",
    "  4. Create continent groups\n",
    "  5. ???"
   ]
  },
  {
   "cell_type": "code",
   "execution_count": 21,
   "id": "c03b1cf9",
   "metadata": {},
   "outputs": [],
   "source": [
    "#create a copy\n",
    "df=adult_df.copy()"
   ]
  },
  {
   "cell_type": "code",
   "execution_count": null,
   "id": "c4e68471",
   "metadata": {},
   "outputs": [],
   "source": [
    "# drop educational-num column because it is redundant \n",
    "df.drop('educational-num', inplace = True, axis =1)"
   ]
  },
  {
   "cell_type": "code",
   "execution_count": 64,
   "id": "843e9e0d",
   "metadata": {},
   "outputs": [],
   "source": [
    "# drop the values of \"?\"\n",
    "df = df[df != '?']"
   ]
  },
  {
   "cell_type": "markdown",
   "id": "a240b895",
   "metadata": {},
   "source": [
    "## Check individual columns"
   ]
  },
  {
   "cell_type": "code",
   "execution_count": 67,
   "id": "59554020",
   "metadata": {},
   "outputs": [],
   "source": [
    "#function for categorical values\n",
    "def explore_categorical(df, x, fillna = True, placeholder = 'MISSING',\n",
    "                        figsize = (6,4), order = None):\n",
    " \n",
    "  # Make a copy of the dataframe and fillna \n",
    "  temp_df = df.copy()\n",
    "  # Before filling nulls, save null value counts and percent for printing \n",
    "  null_count = temp_df[x].isna().sum()\n",
    "  null_perc = null_count/len(temp_df)* 100\n",
    "  # fillna with placeholder\n",
    "  if fillna == True:\n",
    "    temp_df[x] = temp_df[x].fillna(placeholder)\n",
    "  # Create figure with desired figsize\n",
    "  fig, ax = plt.subplots(figsize=figsize)\n",
    "  # Plotting a count plot \n",
    "  sns.countplot(data=temp_df, x=x, ax=ax, order=order)\n",
    "  # Rotate Tick Labels for long names\n",
    "  ax.set_xticklabels(ax.get_xticklabels(), rotation=45, ha='right')\n",
    "  # Add a title with the feature name included\n",
    "  ax.set_title(f\"Column: {x}\", fontweight='bold')\n",
    "  \n",
    "  # Fix layout and show plot (before print statements)\n",
    "  fig.tight_layout()\n",
    "  plt.show()\n",
    "    \n",
    "  # Print null value info\n",
    "  print(f\"- NaN's Found: {null_count} ({round(null_perc,2)}%)\")\n",
    "  # Print cardinality info\n",
    "  nunique = temp_df[x].nunique()\n",
    "  print(f\"- Unique Values: {nunique}\")\n",
    "  # First find value counts of feature\n",
    "  val_counts = temp_df[x].value_counts(dropna=False)\n",
    "  # Define the most common value\n",
    "  most_common_val = val_counts.index[0]\n",
    "  # Define the frequency of the most common value\n",
    "  freq = val_counts.values[0]\n",
    "  # Calculate the percentage of the most common value\n",
    "  perc_most_common = freq / len(temp_df) * 100\n",
    "  # Print the results\n",
    "  print(f\"- Most common value: '{most_common_val}' occurs {freq} times ({round(perc_most_common,2)}%)\")\n",
    "  # print message if quasi-constant or constant (most common val more than 98% of data)\n",
    "  if perc_most_common > 98:\n",
    "    print(f\"\\n- [!] Warning: '{x}' is a constant or quasi-constant feature and should be dropped.\")\n",
    "  else:\n",
    "    print(\"- Not constant or quasi-constant.\")\n",
    "  return fig, ax"
   ]
  },
  {
   "cell_type": "code",
   "execution_count": 37,
   "id": "ba0d5864",
   "metadata": {},
   "outputs": [],
   "source": [
    "# function for statistics\n",
    "\n",
    "def column_statistics(column_name, max_unique_values_to_disply=20):\n",
    "    # Display the count of missing values for this column\n",
    "    print(f'Missing Values: {df[column_name].isna().sum()} ({round((df[column_name].isna().sum())/(df.shape[0])*100,1)})%')\n",
    "\n",
    "    # Determine Outliers - Only if this is a numeric column\n",
    "    if (df[column_name].dtype == 'int64') | (df[column_name].dtype == 'float64'):\n",
    "        # Create outlier filters\n",
    "        q1 = df[column_name].quantile(0.25) # 25th percentile\n",
    "        q3 = df[column_name].quantile(0.75) # 75th percentile\n",
    "        iqr = q3 - q1 # Interquartile range\n",
    "        low_limit = q1 - (1.5 * iqr) # low limit\n",
    "        high_limit = q3 + (1.5 * iqr) # high limit\n",
    "        # Create outlier dataframes\n",
    "        low_df = df[(df[column_name] < low_limit)]\n",
    "        high_df = df[(df[column_name] > high_limit)]\n",
    "        # Calculate the outlier counts and percentages\n",
    "        low_oulier_count = low_df.shape[0]\n",
    "        low_outlier_percentge = round(((low_oulier_count)/(df.shape[0])*100),1)\n",
    "        high_oulier_count = high_df.shape[0]\n",
    "        high_outlier_percentge = round(((high_oulier_count)/(df.shape[0])*100),1)\n",
    "        # Display the outlier counts.\n",
    "        print(f'Outliers: {low_oulier_count} ({low_outlier_percentge})% low, {high_oulier_count} ({high_outlier_percentge})% high')\n",
    "    \n",
    "     \n",
    "   \n",
    "    # Display the count of unique values for this column\n",
    "    print(f'Individual Unique values: {df[column_name].nunique()}')\n",
    "\n",
    "    # Display the unique values including Nan and their counts for this column,\n",
    "    # if the number of unique values is below the function parameter\n",
    "    if df[column_name].nunique() < max_unique_values_to_disply:\n",
    "        print(df[column_name].value_counts(dropna=False))\n",
    "        \n",
    "    # determine  specific percentages\n",
    "    specific_percent=df[column_name].value_counts()/df[column_name].count()*100\n",
    "    print (f'The specific percentages:')\n",
    "    display(specific_percent)\n",
    "\n",
    "     "
   ]
  },
  {
   "cell_type": "markdown",
   "id": "2f72e073",
   "metadata": {},
   "source": [
    "### Column 1: workclass"
   ]
  },
  {
   "cell_type": "code",
   "execution_count": 35,
   "id": "48dc70ce",
   "metadata": {
    "scrolled": true
   },
   "outputs": [
    {
     "name": "stdout",
     "output_type": "stream",
     "text": [
      "Missing Values: 0 (0.0)%\n",
      "Individual Unique values: 9\n",
      "Private             33860\n",
      "Self-emp-not-inc     3861\n",
      "Local-gov            3136\n",
      "?                    2795\n",
      "State-gov            1981\n",
      "Self-emp-inc         1694\n",
      "Federal-gov          1432\n",
      "Without-pay            21\n",
      "Never-worked           10\n",
      "Name: workclass, dtype: int64\n",
      "The specific percentages:\n"
     ]
    },
    {
     "data": {
      "text/plain": [
       "Private             69.399467\n",
       "Self-emp-not-inc     7.913507\n",
       "Local-gov            6.427547\n",
       "?                    5.728633\n",
       "State-gov            4.060258\n",
       "Self-emp-inc         3.472023\n",
       "Federal-gov          2.935028\n",
       "Without-pay          0.043042\n",
       "Never-worked         0.020496\n",
       "Name: workclass, dtype: float64"
      ]
     },
     "metadata": {},
     "output_type": "display_data"
    }
   ],
   "source": [
    "# Display column statistics\n",
    "column_statistics('workclass', 10)"
   ]
  },
  {
   "cell_type": "code",
   "execution_count": 45,
   "id": "41883c4d",
   "metadata": {},
   "outputs": [],
   "source": [
    "# drop without pay and never worked because  of small quanity\n",
    "#drop never worked and without pay because irrelevant for target\n",
    "df = df[df[\"workclass\"].str.contains(\"Without-pay\") == False]\n",
    "df = df[df[\"workclass\"].str.contains(\"Never-worked\") == False]"
   ]
  },
  {
   "cell_type": "code",
   "execution_count": 46,
   "id": "3f456772",
   "metadata": {},
   "outputs": [
    {
     "data": {
      "text/plain": [
       "Private             33860\n",
       "Self-emp-not-inc     3861\n",
       "Local-gov            3136\n",
       "?                    2795\n",
       "State-gov            1981\n",
       "Self-emp-inc         1694\n",
       "Federal-gov          1432\n",
       "Name: workclass, dtype: int64"
      ]
     },
     "execution_count": 46,
     "metadata": {},
     "output_type": "execute_result"
    }
   ],
   "source": [
    "df['workclass'].value_counts()"
   ]
  },
  {
   "cell_type": "markdown",
   "id": "2d00966b",
   "metadata": {},
   "source": [
    "### Column 3: Education"
   ]
  },
  {
   "cell_type": "code",
   "execution_count": 47,
   "id": "626cdb1d",
   "metadata": {
    "scrolled": true
   },
   "outputs": [
    {
     "name": "stdout",
     "output_type": "stream",
     "text": [
      "Missing Values: 0 (0.0)%\n",
      "Individual Unique values: 16\n",
      "The specific percentages:\n"
     ]
    },
    {
     "data": {
      "text/plain": [
       "HS-grad         32.309933\n",
       "Some-college    22.268709\n",
       "Bachelors       16.433889\n",
       "Masters          5.447199\n",
       "Assoc-voc        4.224861\n",
       "11th             3.710084\n",
       "Assoc-acdm       3.279395\n",
       "10th             2.844603\n",
       "7th-8th          1.950409\n",
       "Prof-school      1.710453\n",
       "9th              1.550483\n",
       "12th             1.343342\n",
       "Doctorate        1.218237\n",
       "5th-6th          1.039808\n",
       "1st-4th          0.502471\n",
       "Preschool        0.166123\n",
       "Name: education, dtype: float64"
      ]
     },
     "metadata": {},
     "output_type": "display_data"
    }
   ],
   "source": [
    "# Display column statistics\n",
    "column_statistics('education', 10)"
   ]
  },
  {
   "cell_type": "markdown",
   "id": "6902147c",
   "metadata": {},
   "source": [
    "#### Create educational groups based on the years of education. "
   ]
  },
  {
   "cell_type": "code",
   "execution_count": 55,
   "id": "5b5bd4b9",
   "metadata": {},
   "outputs": [
    {
     "data": {
      "text/plain": [
       "HS-grad          26612\n",
       "College          11672\n",
       "Secondary         4607\n",
       "Graduate          4084\n",
       "Middle School      951\n",
       "Primary            833\n",
       "Name: edstatus, dtype: int64"
      ]
     },
     "execution_count": 55,
     "metadata": {},
     "output_type": "execute_result"
    }
   ],
   "source": [
    "eddictionary = {'HS-grad': 'HS-grad', '1st-4th': 'Primary', '5th-6th': 'Primary',\n",
    "                 '7th-8th': 'Middle School', '9th': 'Secondary', '12th': 'Secondary',\n",
    "                 'Preschool': 'Primary', 'Doctorate': 'Graduate', 'Prof-school': 'Graduate',\n",
    "                 '11th': 'secondary', 'Bachelors': 'College', 'Masters': 'Graduate',\n",
    "                 'Some-college': 'HS-grad', 'Assoc-voc': 'College', 'Assoc-voc': 'College',\n",
    "                 '10th': 'Secondary',  '11th': 'Secondary', 'Grad-school': 'Graduate', 'Assoc-acdm':'College' }\n",
    "df['edstatus'] = df['education'].replace(eddictionary)\n",
    "df['edstatus'].value_counts()"
   ]
  },
  {
   "cell_type": "code",
   "execution_count": 62,
   "id": "8fcf4bd0",
   "metadata": {},
   "outputs": [
    {
     "data": {
      "image/png": "[encoded data removed]",
      "text/plain": [
       "<Figure size 640x480 with 1 Axes>"
      ]
     },
     "metadata": {},
     "output_type": "display_data"
    }
   ],
   "source": [
    "#create countplot for education\n",
    "sns.set_context('talk')\n",
    "with plt.style.context('seaborn-white'):\n",
    "  fig, ax =plt.subplots()\n",
    "plt.rcParams['font.family'] = 'serif'\n",
    "ax = sns.countplot(data=df,x='edstatus')\n",
    "ax.set_title('Education Status', fontfamily='serif',fontsize = 20, fontweight = 'bold');\n",
    "ax.set_xlabel('Education by category', fontfamily= 'serif', fontsize = 15, fontweight = 'bold')\n",
    "plt.xticks(rotation = 55);\n",
    "ax.spines['right'].set_visible(False)\n",
    "ax.spines['top'].set_visible(False) \n",
    "#make commas in y ticks\n",
    "ax.yaxis.set_major_formatter(ticker.StrMethodFormatter('{x:,.0f}'))\n",
    "\n",
    "#save figure\n",
    "plt.savefig('Images/Educational Status', bbox_inches='tight')\n"
   ]
  },
  {
   "cell_type": "markdown",
   "id": "84c2e6fc",
   "metadata": {},
   "source": [
    "### Column 4: Education - numerical\n"
   ]
  },
  {
   "cell_type": "markdown",
   "id": "a5c618f1",
   "metadata": {},
   "source": [
    "### Marital Status"
   ]
  },
  {
   "cell_type": "code",
   "execution_count": 66,
   "id": "981db563",
   "metadata": {},
   "outputs": [
    {
     "name": "stdout",
     "output_type": "stream",
     "text": [
      "Missing Values: 0 (0.0)%\n",
      "Individual Unique values: 7\n",
      "The specific percentages:\n"
     ]
    },
    {
     "data": {
      "text/plain": [
       "Married-civ-spouse       45.841793\n",
       "Never-married            32.955967\n",
       "Divorced                 13.595439\n",
       "Separated                 3.137882\n",
       "Widowed                   3.111220\n",
       "Married-spouse-absent     1.281815\n",
       "Married-AF-spouse         0.075883\n",
       "Name: marital-status, dtype: float64"
      ]
     },
     "metadata": {},
     "output_type": "display_data"
    }
   ],
   "source": [
    "# check column statistics\n",
    "column_statistics('marital-status', 5)\n"
   ]
  },
  {
   "cell_type": "code",
   "execution_count": 69,
   "id": "983b3742",
   "metadata": {},
   "outputs": [
    {
     "data": {
      "image/png": "[encoded data removed]",
      "text/plain": [
       "<Figure size 600x400 with 1 Axes>"
      ]
     },
     "metadata": {},
     "output_type": "display_data"
    },
    {
     "name": "stdout",
     "output_type": "stream",
     "text": [
      "- NaN's Found: 0 (0.0%)\n",
      "- Unique Values: 7\n",
      "- Most common value: 'Married-civ-spouse' occurs 22352 times (45.84%)\n",
      "- Not constant or quasi-constant.\n"
     ]
    }
   ],
   "source": [
    "#explore categorical  values for item type\n",
    "explore_categorical(df, 'marital-status');"
   ]
  },
  {
   "cell_type": "code",
   "execution_count": null,
   "id": "c3659069",
   "metadata": {},
   "outputs": [],
   "source": []
  },
  {
   "cell_type": "code",
   "execution_count": null,
   "id": "ae72aa8f",
   "metadata": {},
   "outputs": [],
   "source": []
  },
  {
   "cell_type": "code",
   "execution_count": null,
   "id": "69a62170",
   "metadata": {},
   "outputs": [],
   "source": []
  },
  {
   "cell_type": "code",
   "execution_count": null,
   "id": "919d5719",
   "metadata": {},
   "outputs": [],
   "source": []
  },
  {
   "cell_type": "code",
   "execution_count": null,
   "id": "df884a77",
   "metadata": {},
   "outputs": [],
   "source": []
  },
  {
   "cell_type": "markdown",
   "id": "5c54614d",
   "metadata": {},
   "source": [
    "### Columns 12 and 13: Capital Gains and Losses"
   ]
  },
  {
   "cell_type": "code",
   "execution_count": 43,
   "id": "6373d0e7",
   "metadata": {},
   "outputs": [
    {
     "data": {
      "image/png": "[encoded data removed]",
      "text/plain": [
       "<Figure size 800x500 with 1 Axes>"
      ]
     },
     "metadata": {},
     "output_type": "display_data"
    }
   ],
   "source": [
    "# create boxplots for the mean of capital gains  and capital losses\n",
    "\n",
    "fig, axes = plt.subplots(nrows = 1, ncols = 1, figsize = (8,5))\n",
    "boxplots = axes.boxplot([adult_df['capital-gain'], adult_df['capital-loss']],\n",
    "           notch = True,\n",
    "           labels=['Capital Gains', 'Capital Losses'],\n",
    "           widths = .7,\n",
    "           patch_artist=True,\n",
    "           medianprops = dict(linestyle='-', linewidth=2, color='Yellow'),\n",
    "           boxprops = dict(linestyle='--', linewidth=2, color='Black', facecolor = 'blue', alpha = .4)\n",
    "          );\n",
    "boxplot1 = boxplots['boxes'][0]\n",
    "boxplot1.set_facecolor('orange')\n",
    "plt.ylabel('Dollars', fontsize = 20);\n",
    "plt.xticks(fontsize = 16);\n",
    "plt.title(\"Boxplots of Gains and Losses in Assets\")\n",
    "\n",
    "plt.yticks(fontsize = 16);"
   ]
  },
  {
   "cell_type": "code",
   "execution_count": 44,
   "id": "58f574df",
   "metadata": {},
   "outputs": [
    {
     "data": {
      "image/png": "[encoded data removed]",
      "text/plain": [
       "<Figure size 640x480 with 1 Axes>"
      ]
     },
     "metadata": {},
     "output_type": "display_data"
    }
   ],
   "source": [
    "# Adding seaborn style \n",
    "loss_filter = adult_df.loc[:, 'capital-loss'] <= 3000\n",
    "df.loc[loss_filter, 'capital-loss'].hist(bins = 3,\n",
    "                                   edgecolor='black')\n",
    "\n",
    "plt.title(\"Histogram of Capital Losses\")\n",
    "plt.xticks(rotation = 45)\n",
    "plt.ticklabel_format(useOffset=False, style='plain')"
   ]
  }
 ],
 "metadata": {
  "kernelspec": {
   "display_name": "Python (dojo-env)",
   "language": "python",
   "name": "dojo-env"
  },
  "language_info": {
   "codemirror_mode": {
    "name": "ipython",
    "version": 3
   },
   "file_extension": ".py",
   "mimetype": "text/x-python",
   "name": "python",
   "nbconvert_exporter": "python",
   "pygments_lexer": "ipython3",
   "version": "3.9.15"
  },
  "toc": {
   "base_numbering": 1,
   "nav_menu": {},
   "number_sections": true,
   "sideBar": true,
   "skip_h1_title": false,
   "title_cell": "Table of Contents",
   "title_sidebar": "Contents",
   "toc_cell": false,
   "toc_position": {},
   "toc_section_display": true,
   "toc_window_display": true
  }
 },
 "nbformat": 4,
 "nbformat_minor": 5
}
